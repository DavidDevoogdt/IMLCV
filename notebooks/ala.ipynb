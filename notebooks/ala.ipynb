{
 "cells": [
  {
   "cell_type": "code",
   "execution_count": 1,
   "metadata": {},
   "outputs": [],
   "source": [
    "%load_ext autoreload\n",
    "\n",
    "%autoreload 2"
   ]
  },
  {
   "cell_type": "code",
   "execution_count": 2,
   "metadata": {},
   "outputs": [
    {
     "ename": "ModuleNotFoundError",
     "evalue": "No module named 'IMLCV'",
     "output_type": "error",
     "traceback": [
      "\u001b[31m---------------------------------------------------------------------------\u001b[39m",
      "\u001b[31mModuleNotFoundError\u001b[39m                       Traceback (most recent call last)",
      "\u001b[36mCell\u001b[39m\u001b[36m \u001b[39m\u001b[32mIn[2]\u001b[39m\u001b[32m, line 1\u001b[39m\n\u001b[32m----> \u001b[39m\u001b[32m1\u001b[39m \u001b[38;5;28;01mfrom\u001b[39;00m\u001b[38;5;250m \u001b[39m\u001b[34;01mIMLCV\u001b[39;00m\u001b[34;01m.\u001b[39;00m\u001b[34;01mconfigs\u001b[39;00m\u001b[34;01m.\u001b[39;00m\u001b[34;01mconfig_general\u001b[39;00m\u001b[38;5;250m \u001b[39m\u001b[38;5;28;01mimport\u001b[39;00m config\n\u001b[32m      3\u001b[39m config(\n\u001b[32m      4\u001b[39m     env=\u001b[33m\"\u001b[39m\u001b[33mlocal\u001b[39m\u001b[33m\"\u001b[39m,\n\u001b[32m      5\u001b[39m     work_queue_local=\u001b[38;5;28;01mFalse\u001b[39;00m,\n\u001b[32m      6\u001b[39m     local_ref_threads=\u001b[32m2\u001b[39m,\n\u001b[32m      7\u001b[39m     max_threads_local=\u001b[32m6\u001b[39m,\n\u001b[32m      8\u001b[39m )\n",
      "\u001b[31mModuleNotFoundError\u001b[39m: No module named 'IMLCV'"
     ]
    }
   ],
   "source": [
    "from IMLCV.configs.config_general import config\n",
    "\n",
    "config(\n",
    "    env=\"local\",\n",
    "    work_queue_local=False,\n",
    "    local_ref_threads=2,\n",
    "    max_threads_local=6,\n",
    ")"
   ]
  },
  {
   "cell_type": "code",
   "execution_count": null,
   "metadata": {},
   "outputs": [
    {
     "ename": "DependencyError",
     "evalue": "Dependency failure for task 1. The representative cause is via DataFuture from task 0",
     "output_type": "error",
     "traceback": [
      "\u001b[31m---------------------------------------------------------------------------\u001b[39m",
      "\u001b[31mBashExitFailure\u001b[39m                           Traceback (most recent call last)",
      "\u001b[36mFile \u001b[39m\u001b[32m~/Documents/progress report/typst/IMLCV/micromamba/envs/py312/lib/python3.12/site-packages/parsl/dataflow/dflow.py:943\u001b[39m, in \u001b[36mDataFlowKernel._unwrap_futures\u001b[39m\u001b[34m(self, args, kwargs)\u001b[39m\n\u001b[32m    942\u001b[39m \u001b[38;5;28;01mtry\u001b[39;00m:\n\u001b[32m--> \u001b[39m\u001b[32m943\u001b[39m     new_inputs.extend([\u001b[38;5;28;43mself\u001b[39;49m\u001b[43m.\u001b[49m\u001b[43mdependency_resolver\u001b[49m\u001b[43m.\u001b[49m\u001b[43mtraverse_to_unwrap\u001b[49m\u001b[43m(\u001b[49m\u001b[43mdep\u001b[49m\u001b[43m)\u001b[49m])\n\u001b[32m    944\u001b[39m \u001b[38;5;28;01mexcept\u001b[39;00m \u001b[38;5;167;01mException\u001b[39;00m \u001b[38;5;28;01mas\u001b[39;00m e:\n",
      "\u001b[36mFile \u001b[39m\u001b[32m~/Documents/progress report/typst/IMLCV/micromamba/envs/py312/lib/python3.12/functools.py:912\u001b[39m, in \u001b[36msingledispatch.<locals>.wrapper\u001b[39m\u001b[34m(*args, **kw)\u001b[39m\n\u001b[32m    909\u001b[39m     \u001b[38;5;28;01mraise\u001b[39;00m \u001b[38;5;167;01mTypeError\u001b[39;00m(\u001b[33mf\u001b[39m\u001b[33m'\u001b[39m\u001b[38;5;132;01m{\u001b[39;00mfuncname\u001b[38;5;132;01m}\u001b[39;00m\u001b[33m requires at least \u001b[39m\u001b[33m'\u001b[39m\n\u001b[32m    910\u001b[39m                     \u001b[33m'\u001b[39m\u001b[33m1 positional argument\u001b[39m\u001b[33m'\u001b[39m)\n\u001b[32m--> \u001b[39m\u001b[32m912\u001b[39m \u001b[38;5;28;01mreturn\u001b[39;00m \u001b[43mdispatch\u001b[49m\u001b[43m(\u001b[49m\u001b[43margs\u001b[49m\u001b[43m[\u001b[49m\u001b[32;43m0\u001b[39;49m\u001b[43m]\u001b[49m\u001b[43m.\u001b[49m\u001b[34;43m__class__\u001b[39;49m\u001b[43m)\u001b[49m\u001b[43m(\u001b[49m\u001b[43m*\u001b[49m\u001b[43margs\u001b[49m\u001b[43m,\u001b[49m\u001b[43m \u001b[49m\u001b[43m*\u001b[49m\u001b[43m*\u001b[49m\u001b[43mkw\u001b[49m\u001b[43m)\u001b[49m\n",
      "\u001b[36mFile \u001b[39m\u001b[32m~/Documents/progress report/typst/IMLCV/micromamba/envs/py312/lib/python3.12/functools.py:912\u001b[39m, in \u001b[36msingledispatch.<locals>.wrapper\u001b[39m\u001b[34m(*args, **kw)\u001b[39m\n\u001b[32m    909\u001b[39m     \u001b[38;5;28;01mraise\u001b[39;00m \u001b[38;5;167;01mTypeError\u001b[39;00m(\u001b[33mf\u001b[39m\u001b[33m'\u001b[39m\u001b[38;5;132;01m{\u001b[39;00mfuncname\u001b[38;5;132;01m}\u001b[39;00m\u001b[33m requires at least \u001b[39m\u001b[33m'\u001b[39m\n\u001b[32m    910\u001b[39m                     \u001b[33m'\u001b[39m\u001b[33m1 positional argument\u001b[39m\u001b[33m'\u001b[39m)\n\u001b[32m--> \u001b[39m\u001b[32m912\u001b[39m \u001b[38;5;28;01mreturn\u001b[39;00m \u001b[43mdispatch\u001b[49m\u001b[43m(\u001b[49m\u001b[43margs\u001b[49m\u001b[43m[\u001b[49m\u001b[32;43m0\u001b[39;49m\u001b[43m]\u001b[49m\u001b[43m.\u001b[49m\u001b[34;43m__class__\u001b[39;49m\u001b[43m)\u001b[49m\u001b[43m(\u001b[49m\u001b[43m*\u001b[49m\u001b[43margs\u001b[49m\u001b[43m,\u001b[49m\u001b[43m \u001b[49m\u001b[43m*\u001b[49m\u001b[43m*\u001b[49m\u001b[43mkw\u001b[49m\u001b[43m)\u001b[49m\n",
      "\u001b[36mFile \u001b[39m\u001b[32m~/Documents/progress report/typst/IMLCV/micromamba/envs/py312/lib/python3.12/site-packages/parsl/dataflow/dependency_resolvers.py:48\u001b[39m, in \u001b[36m_\u001b[39m\u001b[34m(fut)\u001b[39m\n\u001b[32m     47\u001b[39m \u001b[38;5;28;01massert\u001b[39;00m fut.done()\n\u001b[32m---> \u001b[39m\u001b[32m48\u001b[39m \u001b[38;5;28;01mreturn\u001b[39;00m \u001b[43mfut\u001b[49m\u001b[43m.\u001b[49m\u001b[43mresult\u001b[49m\u001b[43m(\u001b[49m\u001b[43m)\u001b[49m\n",
      "\u001b[36mFile \u001b[39m\u001b[32m~/Documents/progress report/typst/IMLCV/micromamba/envs/py312/lib/python3.12/concurrent/futures/_base.py:449\u001b[39m, in \u001b[36mFuture.result\u001b[39m\u001b[34m(self, timeout)\u001b[39m\n\u001b[32m    448\u001b[39m \u001b[38;5;28;01melif\u001b[39;00m \u001b[38;5;28mself\u001b[39m._state == FINISHED:\n\u001b[32m--> \u001b[39m\u001b[32m449\u001b[39m     \u001b[38;5;28;01mreturn\u001b[39;00m \u001b[38;5;28;43mself\u001b[39;49m\u001b[43m.\u001b[49m\u001b[43m__get_result\u001b[49m\u001b[43m(\u001b[49m\u001b[43m)\u001b[49m\n\u001b[32m    451\u001b[39m \u001b[38;5;28mself\u001b[39m._condition.wait(timeout)\n",
      "\u001b[36mFile \u001b[39m\u001b[32m~/Documents/progress report/typst/IMLCV/micromamba/envs/py312/lib/python3.12/concurrent/futures/_base.py:401\u001b[39m, in \u001b[36mFuture.__get_result\u001b[39m\u001b[34m(self)\u001b[39m\n\u001b[32m    400\u001b[39m \u001b[38;5;28;01mtry\u001b[39;00m:\n\u001b[32m--> \u001b[39m\u001b[32m401\u001b[39m     \u001b[38;5;28;01mraise\u001b[39;00m \u001b[38;5;28mself\u001b[39m._exception\n\u001b[32m    402\u001b[39m \u001b[38;5;28;01mfinally\u001b[39;00m:\n\u001b[32m    403\u001b[39m     \u001b[38;5;66;03m# Break a reference cycle with the exception in self._exception\u001b[39;00m\n",
      "\u001b[36mFile \u001b[39m\u001b[32m~/Documents/progress report/typst/IMLCV/micromamba/envs/py312/lib/python3.12/site-packages/parsl/dataflow/dflow.py:343\u001b[39m, in \u001b[36mDataFlowKernel.handle_exec_update\u001b[39m\u001b[34m(self, task_record, future)\u001b[39m\n\u001b[32m    342\u001b[39m \u001b[38;5;28;01mtry\u001b[39;00m:\n\u001b[32m--> \u001b[39m\u001b[32m343\u001b[39m     res = \u001b[38;5;28;43mself\u001b[39;49m\u001b[43m.\u001b[49m\u001b[43m_unwrap_remote_exception_wrapper\u001b[49m\u001b[43m(\u001b[49m\u001b[43mfuture\u001b[49m\u001b[43m)\u001b[49m\n\u001b[32m    345\u001b[39m \u001b[38;5;28;01mexcept\u001b[39;00m \u001b[38;5;167;01mException\u001b[39;00m \u001b[38;5;28;01mas\u001b[39;00m e:\n",
      "\u001b[36mFile \u001b[39m\u001b[32m~/Documents/progress report/typst/IMLCV/micromamba/envs/py312/lib/python3.12/site-packages/parsl/dataflow/dflow.py:607\u001b[39m, in \u001b[36mDataFlowKernel._unwrap_remote_exception_wrapper\u001b[39m\u001b[34m(future)\u001b[39m\n\u001b[32m    606\u001b[39m \u001b[38;5;28;01mif\u001b[39;00m \u001b[38;5;28misinstance\u001b[39m(result, RemoteExceptionWrapper):\n\u001b[32m--> \u001b[39m\u001b[32m607\u001b[39m     \u001b[43mresult\u001b[49m\u001b[43m.\u001b[49m\u001b[43mreraise\u001b[49m\u001b[43m(\u001b[49m\u001b[43m)\u001b[49m\n\u001b[32m    608\u001b[39m \u001b[38;5;28;01mreturn\u001b[39;00m result\n",
      "\u001b[36mFile \u001b[39m\u001b[32m~/Documents/progress report/typst/IMLCV/micromamba/envs/py312/lib/python3.12/site-packages/parsl/app/errors.py:114\u001b[39m, in \u001b[36mRemoteExceptionWrapper.reraise\u001b[39m\u001b[34m(self)\u001b[39m\n\u001b[32m    112\u001b[39m v = \u001b[38;5;28mself\u001b[39m.get_exception()\n\u001b[32m--> \u001b[39m\u001b[32m114\u001b[39m \u001b[38;5;28;01mraise\u001b[39;00m v\n",
      "\u001b[36mFile \u001b[39m\u001b[32m~/Documents/progress report/typst/IMLCV/micromamba/envs/py312/lib/python3.12/site-packages/parsl/app/errors.py:138\u001b[39m, in \u001b[36mwrapper\u001b[39m\u001b[34m()\u001b[39m\n\u001b[32m    137\u001b[39m \u001b[38;5;28;01mtry\u001b[39;00m:\n\u001b[32m--> \u001b[39m\u001b[32m138\u001b[39m     \u001b[38;5;28;01mreturn\u001b[39;00m func(*args, **kwargs)\n\u001b[32m    139\u001b[39m \u001b[38;5;28;01mexcept\u001b[39;00m \u001b[38;5;167;01mException\u001b[39;00m:\n",
      "\u001b[36mFile \u001b[39m\u001b[32m~/Documents/progress report/typst/IMLCV/micromamba/envs/py312/lib/python3.12/site-packages/parsl/app/bash.py:94\u001b[39m, in \u001b[36mremote_side_bash_executor\u001b[39m\u001b[34m()\u001b[39m\n\u001b[32m     93\u001b[39m \u001b[38;5;28;01mif\u001b[39;00m returncode != \u001b[32m0\u001b[39m:\n\u001b[32m---> \u001b[39m\u001b[32m94\u001b[39m     \u001b[38;5;28;01mraise\u001b[39;00m pe.BashExitFailure(func_name, proc.returncode)\n\u001b[32m     96\u001b[39m \u001b[38;5;66;03m# TODO : Add support for globs here\u001b[39;00m\n",
      "\u001b[31mBashExitFailure\u001b[39m: bash_app _get_init failed with unix exit code 1",
      "\nThe above exception was the direct cause of the following exception:\n",
      "\u001b[31mDependencyError\u001b[39m                           Traceback (most recent call last)",
      "\u001b[36mCell\u001b[39m\u001b[36m \u001b[39m\u001b[32mIn[3]\u001b[39m\u001b[32m, line 16\u001b[39m\n\u001b[32m     12\u001b[39m \u001b[38;5;28;01melse\u001b[39;00m:\n\u001b[32m     13\u001b[39m     md,refs = toy_1d()\n\u001b[32m---> \u001b[39m\u001b[32m16\u001b[39m     scheme = \u001b[43mScheme\u001b[49m\u001b[43m.\u001b[49m\u001b[43mfrom_refs\u001b[49m\u001b[43m(\u001b[49m\u001b[43mmde\u001b[49m\u001b[43m=\u001b[49m\u001b[43mmd\u001b[49m\u001b[43m,\u001b[49m\u001b[43m \u001b[49m\u001b[43mrefs\u001b[49m\u001b[43m=\u001b[49m\u001b[43mrefs\u001b[49m\u001b[43m,\u001b[49m\u001b[43m \u001b[49m\u001b[43mfolder\u001b[49m\u001b[43m=\u001b[49m\u001b[33;43m\"\u001b[39;49m\u001b[33;43mtoy_1d\u001b[39;49m\u001b[33;43m\"\u001b[39;49m\u001b[43m)\u001b[49m\n",
      "\u001b[36mFile \u001b[39m\u001b[32m~/Documents/progress report/typst/IMLCV/src/IMLCV/scheme.py:51\u001b[39m, in \u001b[36mScheme.from_refs\u001b[39m\u001b[34m(mde, folder, refs, steps)\u001b[39m\n\u001b[32m     48\u001b[39m \u001b[38;5;28;01mfor\u001b[39;00m _ \u001b[38;5;129;01min\u001b[39;00m refs:\n\u001b[32m     49\u001b[39m     biases.append(NoneBias.create(collective_variable=cv))\n\u001b[32m---> \u001b[39m\u001b[32m51\u001b[39m \u001b[43mrnds\u001b[49m\u001b[43m.\u001b[49m\u001b[43mrun_par\u001b[49m\u001b[43m(\u001b[49m\u001b[43mbiases\u001b[49m\u001b[43m=\u001b[49m\u001b[43mbiases\u001b[49m\u001b[43m,\u001b[49m\u001b[43m \u001b[49m\u001b[43msteps\u001b[49m\u001b[43m=\u001b[49m\u001b[43msteps\u001b[49m\u001b[43m,\u001b[49m\u001b[43m \u001b[49m\u001b[43msp0\u001b[49m\u001b[43m=\u001b[49m\u001b[43mrefs\u001b[49m\u001b[43m,\u001b[49m\u001b[43m \u001b[49m\u001b[43mplot\u001b[49m\u001b[43m=\u001b[49m\u001b[38;5;28;43;01mFalse\u001b[39;49;00m\u001b[43m)\u001b[49m\n\u001b[32m     53\u001b[39m rnds.add_round(bias=bias)\n\u001b[32m     55\u001b[39m \u001b[38;5;28;01mreturn\u001b[39;00m Scheme(rounds=rnds)\n",
      "\u001b[36mFile \u001b[39m\u001b[32m~/Documents/progress report/typst/IMLCV/src/IMLCV/base/rounds.py:1957\u001b[39m, in \u001b[36mRounds.run_par\u001b[39m\u001b[34m(self, biases, steps, plot, KEY, sp0, ignore_invalid, md_trajs, cv_round, wait_for_plots, min_traj_length, recalc_cv, only_finished, profile, chunk_size, T_scale, macro_chunk, lag_n, use_fes_bias)\u001b[39m\n\u001b[32m   1932\u001b[39m common_md_name = \u001b[38;5;28mself\u001b[39m.full_path(\u001b[38;5;28mself\u001b[39m._name_md(c=cv_round, r=r))\n\u001b[32m   1934\u001b[39m pn = \u001b[38;5;28mself\u001b[39m.path(c=cv_round, r=r)\n\u001b[32m   1936\u001b[39m out = \u001b[43mbash_app_python\u001b[49m\u001b[43m(\u001b[49m\n\u001b[32m   1937\u001b[39m \u001b[43m    \u001b[49m\u001b[43mRounds\u001b[49m\u001b[43m.\u001b[49m\u001b[43m_get_init\u001b[49m\u001b[43m,\u001b[49m\n\u001b[32m   1938\u001b[39m \u001b[43m    \u001b[49m\u001b[43mexecutors\u001b[49m\u001b[43m=\u001b[49m\u001b[43mExecutors\u001b[49m\u001b[43m.\u001b[49m\u001b[43mtraining\u001b[49m\u001b[43m,\u001b[49m\n\u001b[32m   1939\u001b[39m \u001b[43m\u001b[49m\u001b[43m)\u001b[49m\u001b[43m(\u001b[49m\n\u001b[32m   1940\u001b[39m \u001b[43m    \u001b[49m\u001b[43mrounds\u001b[49m\u001b[43m=\u001b[49m\u001b[38;5;28;43mself\u001b[39;49m\u001b[43m,\u001b[49m\n\u001b[32m   1941\u001b[39m \u001b[43m    \u001b[49m\u001b[43mKEY\u001b[49m\u001b[43m=\u001b[49m\u001b[43mKEY\u001b[49m\u001b[43m,\u001b[49m\n\u001b[32m   1942\u001b[39m \u001b[43m    \u001b[49m\u001b[43mignore_invalid\u001b[49m\u001b[43m=\u001b[49m\u001b[43mignore_invalid\u001b[49m\u001b[43m,\u001b[49m\n\u001b[32m   1943\u001b[39m \u001b[43m    \u001b[49m\u001b[43monly_finished\u001b[49m\u001b[43m=\u001b[49m\u001b[43monly_finished\u001b[49m\u001b[43m,\u001b[49m\n\u001b[32m   1944\u001b[39m \u001b[43m    \u001b[49m\u001b[43mmin_traj_length\u001b[49m\u001b[43m=\u001b[49m\u001b[43mmin_traj_length\u001b[49m\u001b[43m,\u001b[49m\n\u001b[32m   1945\u001b[39m \u001b[43m    \u001b[49m\u001b[43mrecalc_cv\u001b[49m\u001b[43m=\u001b[49m\u001b[43mrecalc_cv\u001b[49m\u001b[43m,\u001b[49m\n\u001b[32m   1946\u001b[39m \u001b[43m    \u001b[49m\u001b[43mT_scale\u001b[49m\u001b[43m=\u001b[49m\u001b[43mT_scale\u001b[49m\u001b[43m,\u001b[49m\n\u001b[32m   1947\u001b[39m \u001b[43m    \u001b[49m\u001b[43mchunk_size\u001b[49m\u001b[43m=\u001b[49m\u001b[43mchunk_size\u001b[49m\u001b[43m,\u001b[49m\n\u001b[32m   1948\u001b[39m \u001b[43m    \u001b[49m\u001b[43mmd_trajs\u001b[49m\u001b[43m=\u001b[49m\u001b[43mmd_trajs\u001b[49m\u001b[43m,\u001b[49m\n\u001b[32m   1949\u001b[39m \u001b[43m    \u001b[49m\u001b[43mcv_round\u001b[49m\u001b[43m=\u001b[49m\u001b[43mcv_round\u001b[49m\u001b[43m,\u001b[49m\n\u001b[32m   1950\u001b[39m \u001b[43m    \u001b[49m\u001b[43mbiases\u001b[49m\u001b[43m=\u001b[49m\u001b[43mbiases\u001b[49m\u001b[43m,\u001b[49m\n\u001b[32m   1951\u001b[39m \u001b[43m    \u001b[49m\u001b[43msp0\u001b[49m\u001b[43m=\u001b[49m\u001b[43msp0\u001b[49m\u001b[43m,\u001b[49m\n\u001b[32m   1952\u001b[39m \u001b[43m    \u001b[49m\u001b[43mcommon_bias_name\u001b[49m\u001b[43m=\u001b[49m\u001b[43mcommon_bias_name\u001b[49m\u001b[43m,\u001b[49m\n\u001b[32m   1953\u001b[39m \u001b[43m    \u001b[49m\u001b[43mr\u001b[49m\u001b[43m=\u001b[49m\u001b[43mr\u001b[49m\u001b[43m,\u001b[49m\n\u001b[32m   1954\u001b[39m \u001b[43m    \u001b[49m\u001b[43mexecution_folder\u001b[49m\u001b[43m=\u001b[49m\u001b[43mpn\u001b[49m\u001b[43m,\u001b[49m\n\u001b[32m   1955\u001b[39m \u001b[43m    \u001b[49m\u001b[43mmacro_chunk\u001b[49m\u001b[43m=\u001b[49m\u001b[43mmacro_chunk\u001b[49m\u001b[43m,\u001b[49m\n\u001b[32m   1956\u001b[39m \u001b[43m    \u001b[49m\u001b[43mlag_n\u001b[49m\u001b[43m=\u001b[49m\u001b[43mlag_n\u001b[49m\u001b[43m,\u001b[49m\n\u001b[32m-> \u001b[39m\u001b[32m1957\u001b[39m \u001b[43m\u001b[49m\u001b[43m)\u001b[49m\u001b[43m.\u001b[49m\u001b[43mresult\u001b[49m\u001b[43m(\u001b[49m\u001b[43m)\u001b[49m\n\u001b[32m   1959\u001b[39m \u001b[38;5;28;01mfrom\u001b[39;00m\u001b[38;5;250m \u001b[39m\u001b[34;01mparsl\u001b[39;00m\u001b[34;01m.\u001b[39;00m\u001b[34;01mdataflow\u001b[39;00m\u001b[34;01m.\u001b[39;00m\u001b[34;01mdflow\u001b[39;00m\u001b[38;5;250m \u001b[39m\u001b[38;5;28;01mimport\u001b[39;00m AppFuture\n\u001b[32m   1961\u001b[39m tasks: \u001b[38;5;28mlist\u001b[39m[\u001b[38;5;28mtuple\u001b[39m[\u001b[38;5;28mint\u001b[39m, AppFuture]] | \u001b[38;5;28;01mNone\u001b[39;00m = \u001b[38;5;28;01mNone\u001b[39;00m\n",
      "\u001b[36mFile \u001b[39m\u001b[32m~/Documents/progress report/typst/IMLCV/micromamba/envs/py312/lib/python3.12/concurrent/futures/_base.py:456\u001b[39m, in \u001b[36mFuture.result\u001b[39m\u001b[34m(self, timeout)\u001b[39m\n\u001b[32m    454\u001b[39m     \u001b[38;5;28;01mraise\u001b[39;00m CancelledError()\n\u001b[32m    455\u001b[39m \u001b[38;5;28;01melif\u001b[39;00m \u001b[38;5;28mself\u001b[39m._state == FINISHED:\n\u001b[32m--> \u001b[39m\u001b[32m456\u001b[39m     \u001b[38;5;28;01mreturn\u001b[39;00m \u001b[38;5;28;43mself\u001b[39;49m\u001b[43m.\u001b[49m\u001b[43m__get_result\u001b[49m\u001b[43m(\u001b[49m\u001b[43m)\u001b[49m\n\u001b[32m    457\u001b[39m \u001b[38;5;28;01melse\u001b[39;00m:\n\u001b[32m    458\u001b[39m     \u001b[38;5;28;01mraise\u001b[39;00m \u001b[38;5;167;01mTimeoutError\u001b[39;00m()\n",
      "\u001b[36mFile \u001b[39m\u001b[32m~/Documents/progress report/typst/IMLCV/micromamba/envs/py312/lib/python3.12/concurrent/futures/_base.py:401\u001b[39m, in \u001b[36mFuture.__get_result\u001b[39m\u001b[34m(self)\u001b[39m\n\u001b[32m    399\u001b[39m \u001b[38;5;28;01mif\u001b[39;00m \u001b[38;5;28mself\u001b[39m._exception:\n\u001b[32m    400\u001b[39m     \u001b[38;5;28;01mtry\u001b[39;00m:\n\u001b[32m--> \u001b[39m\u001b[32m401\u001b[39m         \u001b[38;5;28;01mraise\u001b[39;00m \u001b[38;5;28mself\u001b[39m._exception\n\u001b[32m    402\u001b[39m     \u001b[38;5;28;01mfinally\u001b[39;00m:\n\u001b[32m    403\u001b[39m         \u001b[38;5;66;03m# Break a reference cycle with the exception in self._exception\u001b[39;00m\n\u001b[32m    404\u001b[39m         \u001b[38;5;28mself\u001b[39m = \u001b[38;5;28;01mNone\u001b[39;00m\n",
      "\u001b[36mFile \u001b[39m\u001b[32m~/Documents/progress report/typst/IMLCV/micromamba/envs/py312/lib/python3.12/site-packages/parsl/dataflow/dflow.py:343\u001b[39m, in \u001b[36mDataFlowKernel.handle_exec_update\u001b[39m\u001b[34m(self, task_record, future)\u001b[39m\n\u001b[32m    340\u001b[39m     \u001b[38;5;28;01mraise\u001b[39;00m InternalConsistencyError(\u001b[33m\"\u001b[39m\u001b[33mdone callback called, despite future not reporting itself as done\u001b[39m\u001b[33m\"\u001b[39m)\n\u001b[32m    342\u001b[39m \u001b[38;5;28;01mtry\u001b[39;00m:\n\u001b[32m--> \u001b[39m\u001b[32m343\u001b[39m     res = \u001b[38;5;28;43mself\u001b[39;49m\u001b[43m.\u001b[49m\u001b[43m_unwrap_remote_exception_wrapper\u001b[49m\u001b[43m(\u001b[49m\u001b[43mfuture\u001b[49m\u001b[43m)\u001b[49m\n\u001b[32m    345\u001b[39m \u001b[38;5;28;01mexcept\u001b[39;00m \u001b[38;5;167;01mException\u001b[39;00m \u001b[38;5;28;01mas\u001b[39;00m e:\n\u001b[32m    346\u001b[39m     logger.info(\u001b[33mf\u001b[39m\u001b[33m\"\u001b[39m\u001b[33mTask \u001b[39m\u001b[38;5;132;01m{\u001b[39;00mtask_id\u001b[38;5;132;01m}\u001b[39;00m\u001b[33m try \u001b[39m\u001b[38;5;132;01m{\u001b[39;00mtask_record[\u001b[33m'\u001b[39m\u001b[33mtry_id\u001b[39m\u001b[33m'\u001b[39m]\u001b[38;5;132;01m}\u001b[39;00m\u001b[33m failed with exception of type \u001b[39m\u001b[38;5;132;01m{\u001b[39;00m\u001b[38;5;28mtype\u001b[39m(e).\u001b[34m__name__\u001b[39m\u001b[38;5;132;01m}\u001b[39;00m\u001b[33m\"\u001b[39m)\n",
      "\u001b[36mFile \u001b[39m\u001b[32m~/Documents/progress report/typst/IMLCV/micromamba/envs/py312/lib/python3.12/site-packages/parsl/dataflow/dflow.py:605\u001b[39m, in \u001b[36mDataFlowKernel._unwrap_remote_exception_wrapper\u001b[39m\u001b[34m(future)\u001b[39m\n\u001b[32m    603\u001b[39m \u001b[38;5;129m@staticmethod\u001b[39m\n\u001b[32m    604\u001b[39m \u001b[38;5;28;01mdef\u001b[39;00m\u001b[38;5;250m \u001b[39m\u001b[34m_unwrap_remote_exception_wrapper\u001b[39m(future: Future) -> Any:\n\u001b[32m--> \u001b[39m\u001b[32m605\u001b[39m     result = \u001b[43mfuture\u001b[49m\u001b[43m.\u001b[49m\u001b[43mresult\u001b[49m\u001b[43m(\u001b[49m\u001b[43m)\u001b[49m\n\u001b[32m    606\u001b[39m     \u001b[38;5;28;01mif\u001b[39;00m \u001b[38;5;28misinstance\u001b[39m(result, RemoteExceptionWrapper):\n\u001b[32m    607\u001b[39m         result.reraise()\n",
      "\u001b[36mFile \u001b[39m\u001b[32m~/Documents/progress report/typst/IMLCV/micromamba/envs/py312/lib/python3.12/concurrent/futures/_base.py:449\u001b[39m, in \u001b[36mFuture.result\u001b[39m\u001b[34m(self, timeout)\u001b[39m\n\u001b[32m    447\u001b[39m     \u001b[38;5;28;01mraise\u001b[39;00m CancelledError()\n\u001b[32m    448\u001b[39m \u001b[38;5;28;01melif\u001b[39;00m \u001b[38;5;28mself\u001b[39m._state == FINISHED:\n\u001b[32m--> \u001b[39m\u001b[32m449\u001b[39m     \u001b[38;5;28;01mreturn\u001b[39;00m \u001b[38;5;28;43mself\u001b[39;49m\u001b[43m.\u001b[49m\u001b[43m__get_result\u001b[49m\u001b[43m(\u001b[49m\u001b[43m)\u001b[49m\n\u001b[32m    451\u001b[39m \u001b[38;5;28mself\u001b[39m._condition.wait(timeout)\n\u001b[32m    453\u001b[39m \u001b[38;5;28;01mif\u001b[39;00m \u001b[38;5;28mself\u001b[39m._state \u001b[38;5;129;01min\u001b[39;00m [CANCELLED, CANCELLED_AND_NOTIFIED]:\n",
      "\u001b[36mFile \u001b[39m\u001b[32m~/Documents/progress report/typst/IMLCV/micromamba/envs/py312/lib/python3.12/concurrent/futures/_base.py:401\u001b[39m, in \u001b[36mFuture.__get_result\u001b[39m\u001b[34m(self)\u001b[39m\n\u001b[32m    399\u001b[39m \u001b[38;5;28;01mif\u001b[39;00m \u001b[38;5;28mself\u001b[39m._exception:\n\u001b[32m    400\u001b[39m     \u001b[38;5;28;01mtry\u001b[39;00m:\n\u001b[32m--> \u001b[39m\u001b[32m401\u001b[39m         \u001b[38;5;28;01mraise\u001b[39;00m \u001b[38;5;28mself\u001b[39m._exception\n\u001b[32m    402\u001b[39m     \u001b[38;5;28;01mfinally\u001b[39;00m:\n\u001b[32m    403\u001b[39m         \u001b[38;5;66;03m# Break a reference cycle with the exception in self._exception\u001b[39;00m\n\u001b[32m    404\u001b[39m         \u001b[38;5;28mself\u001b[39m = \u001b[38;5;28;01mNone\u001b[39;00m\n",
      "\u001b[31mDependencyError\u001b[39m: Dependency failure for task 1. The representative cause is via DataFuture from task 0"
     ]
    }
   ],
   "source": [
    "from pathlib import Path\n",
    "\n",
    "from IMLCV.base.rounds import Rounds\n",
    "from IMLCV.examples.example_systems import toy_1d\n",
    "from IMLCV.scheme import Scheme\n",
    "\n",
    "folder = Path(\"test_scheme\")\n",
    "\n",
    "if folder.exists():\n",
    "    scheme = Scheme.from_rounds(Rounds.create(folder=folder, copy=False, new_folder=False))\n",
    "\n",
    "else:\n",
    "    md,refs = toy_1d()\n",
    "    \n",
    "\n",
    "    scheme = Scheme.from_refs(mde=md, refs=refs, folder=\"toy_1d\")"
   ]
  },
  {
   "cell_type": "code",
   "execution_count": null,
   "metadata": {},
   "outputs": [
    {
     "ename": "NameError",
     "evalue": "name 'scheme' is not defined",
     "output_type": "error",
     "traceback": [
      "\u001b[0;31m---------------------------------------------------------------------------\u001b[0m",
      "\u001b[0;31mNameError\u001b[0m                                 Traceback (most recent call last)",
      "Cell \u001b[0;32mIn[4], line 1\u001b[0m\n\u001b[0;32m----> 1\u001b[0m \u001b[43mscheme\u001b[49m\u001b[38;5;241m.\u001b[39minner_loop(\n\u001b[1;32m      2\u001b[0m     steps\u001b[38;5;241m=\u001b[39m\u001b[38;5;241m1000\u001b[39m,\n\u001b[1;32m      3\u001b[0m     n\u001b[38;5;241m=\u001b[39m\u001b[38;5;241m8\u001b[39m,\n\u001b[1;32m      4\u001b[0m     convergence_kl\u001b[38;5;241m=\u001b[39m\u001b[38;5;241m0.05\u001b[39m,\n\u001b[1;32m      5\u001b[0m     chunk_size\u001b[38;5;241m=\u001b[39m\u001b[38;5;241m100\u001b[39m,\n\u001b[1;32m      6\u001b[0m     eps_umbrella\u001b[38;5;241m=\u001b[39m\u001b[38;5;241m0.05\u001b[39m,\n\u001b[1;32m      7\u001b[0m )\n",
      "\u001b[0;31mNameError\u001b[0m: name 'scheme' is not defined"
     ]
    }
   ],
   "source": [
    "scheme.inner_loop(\n",
    "    steps=1000,\n",
    "    n=8,\n",
    "    convergence_kl=0.05,\n",
    "    chunk_size=100,\n",
    "    eps_umbrella=0.05,\n",
    ")"
   ]
  },
  {
   "cell_type": "code",
   "execution_count": null,
   "metadata": {},
   "outputs": [
    {
     "name": "stdout",
     "output_type": "stream",
     "text": [
      "len(sp) = 52\n",
      "using 79 bins\n",
      "543/841 bins used for wham \n",
      "state=FixedPointState(iter_num=Array(158, dtype=int64, weak_type=True), error=Array(9.64418337e-07, dtype=float64), aux=None, num_fun_eval=Array(158, dtype=int32))\n",
      "not using koopman weights\n",
      "len(sp) = 219\n",
      "probs = (185810,)  out=185810 total=185810 \n",
      "WARNING:time steps are not equal, [1 1 1 1 1 1 1 1 1] out of 185810 trajectories have different time steps\n",
      "tau = 20.00 fs, lag_time*timestep = 20.00 fs\n",
      "using 30 bins\n",
      "543/841 bins used for wham \n",
      "state=FixedPointState(iter_num=Array(158, dtype=int64, weak_type=True), error=Array(9.64500635e-07, dtype=float64), aux=None, num_fun_eval=Array(158, dtype=int32))\n",
      "koopman weights\n",
      "424/424 eigenvalues larger than eps=1e-10\n",
      " eigval[idx]=Array(1.+0.j, dtype=complex128)\n",
      "all weights positive\n",
      " The chosen kernel thin_plate_spline is not suitable for periodic data. Switching to linear kernel\n"
     ]
    }
   ],
   "source": [
    "scheme.FESBias(\n",
    "    thermolib=False,\n",
    "    n_max=30,\n",
    ")"
   ]
  },
  {
   "cell_type": "code",
   "execution_count": 5,
   "metadata": {},
   "outputs": [],
   "source": [
    "self = scheme\n",
    "self.rounds.add_round_from_md(self.md)"
   ]
  },
  {
   "cell_type": "code",
   "execution_count": 6,
   "metadata": {},
   "outputs": [
    {
     "name": "stdout",
     "output_type": "stream",
     "text": [
      "a 2\n"
     ]
    }
   ],
   "source": [
    "print(f\"a {2}\")"
   ]
  },
  {
   "cell_type": "code",
   "execution_count": null,
   "metadata": {},
   "outputs": [],
   "source": []
  }
 ],
 "metadata": {
  "kernelspec": {
   "display_name": "py312",
   "language": "python",
   "name": "python3"
  },
  "language_info": {
   "codemirror_mode": {
    "name": "ipython",
    "version": 3
   },
   "file_extension": ".py",
   "mimetype": "text/x-python",
   "name": "python",
   "nbconvert_exporter": "python",
   "pygments_lexer": "ipython3",
   "version": "3.12.10"
  },
  "widgets": {
   "application/vnd.jupyter.widget-state+json": {
    "state": {},
    "version_major": 2,
    "version_minor": 0
   }
  }
 },
 "nbformat": 4,
 "nbformat_minor": 4
}
