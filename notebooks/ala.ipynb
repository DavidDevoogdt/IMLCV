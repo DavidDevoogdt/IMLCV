{
 "cells": [
  {
   "cell_type": "code",
   "execution_count": 1,
   "metadata": {},
   "outputs": [],
   "source": [
    "%load_ext autoreload\n",
    "\n",
    "%autoreload 2\n"
   ]
  },
  {
   "cell_type": "code",
   "execution_count": 2,
   "metadata": {},
   "outputs": [
    {
     "name": "stdout",
     "output_type": "stream",
     "text": [
      "ROOT_DIR=PosixPath('/home/david/Documents/progress_reports/typst/IMLCV/src/IMLCV')\n",
      "providing num=1 executors for label='training' with threads=6\n",
      "providing num=1 executors for label='default' with threads=2\n",
      "providing num=3 executors for label='reference' with threads=2\n"
     ]
    },
    {
     "name": "stderr",
     "output_type": "stream",
     "text": [
      "/home/david/Documents/progress_reports/typst/IMLCV/micromamba/envs/py312/lib/python3.12/subprocess.py:1885: RuntimeWarning: os.fork() was called. os.fork() is incompatible with multithreaded code, and JAX is multithreaded, so this will likely lead to a deadlock.\n",
      "  self.pid = _fork_exec(\n",
      "/home/david/Documents/progress_reports/typst/IMLCV/micromamba/envs/py312/lib/python3.12/subprocess.py:1885: RuntimeWarning: os.fork() was called. os.fork() is incompatible with multithreaded code, and JAX is multithreaded, so this will likely lead to a deadlock.\n",
      "  self.pid = _fork_exec(\n",
      "/home/david/Documents/progress_reports/typst/IMLCV/micromamba/envs/py312/lib/python3.12/subprocess.py:1885: RuntimeWarning: os.fork() was called. os.fork() is incompatible with multithreaded code, and JAX is multithreaded, so this will likely lead to a deadlock.\n",
      "  self.pid = _fork_exec(\n",
      "/home/david/Documents/progress_reports/typst/IMLCV/micromamba/envs/py312/lib/python3.12/subprocess.py:1885: RuntimeWarning: os.fork() was called. os.fork() is incompatible with multithreaded code, and JAX is multithreaded, so this will likely lead to a deadlock.\n",
      "  self.pid = _fork_exec(\n",
      "/home/david/Documents/progress_reports/typst/IMLCV/micromamba/envs/py312/lib/python3.12/subprocess.py:1885: RuntimeWarning: os.fork() was called. os.fork() is incompatible with multithreaded code, and JAX is multithreaded, so this will likely lead to a deadlock.\n",
      "  self.pid = _fork_exec(\n",
      "/home/david/Documents/progress_reports/typst/IMLCV/micromamba/envs/py312/lib/python3.12/subprocess.py:1885: RuntimeWarning: os.fork() was called. os.fork() is incompatible with multithreaded code, and JAX is multithreaded, so this will likely lead to a deadlock.\n",
      "  self.pid = _fork_exec(\n",
      "/home/david/Documents/progress_reports/typst/IMLCV/micromamba/envs/py312/lib/python3.12/subprocess.py:1885: RuntimeWarning: os.fork() was called. os.fork() is incompatible with multithreaded code, and JAX is multithreaded, so this will likely lead to a deadlock.\n",
      "  self.pid = _fork_exec(\n",
      "/home/david/Documents/progress_reports/typst/IMLCV/micromamba/envs/py312/lib/python3.12/subprocess.py:1885: RuntimeWarning: os.fork() was called. os.fork() is incompatible with multithreaded code, and JAX is multithreaded, so this will likely lead to a deadlock.\n",
      "  self.pid = _fork_exec(\n"
     ]
    }
   ],
   "source": [
    "from IMLCV.configs.config_general import config\n",
    "\n",
    "config(\n",
    "    env=\"local\",\n",
    "    work_queue_local=True,\n",
    "    local_ref_threads=2,\n",
    "    max_threads_local=6,\n",
    ")"
   ]
  },
  {
   "cell_type": "code",
   "execution_count": 3,
   "metadata": {},
   "outputs": [],
   "source": [
    "from pathlib import Path\n",
    "\n",
    "from IMLCV.base.rounds import Rounds\n",
    "from IMLCV.examples.example_systems import toy_1d\n",
    "from IMLCV.scheme import Scheme\n",
    "\n",
    "folder = Path(\"toy_1d\")\n",
    "\n",
    "if folder.exists():\n",
    "    scheme = Scheme( rounds= Rounds.create(folder=folder, copy=False, new_folder=False))\n",
    "\n",
    "else:\n",
    "    md,refs,fes_0 = toy_1d()\n",
    "    \n",
    "\n",
    "    scheme = Scheme.from_refs(mde=md, refs=sum(*refs), folder=folder,steps=1000,)"
   ]
  },
  {
   "cell_type": "code",
   "execution_count": 4,
   "metadata": {},
   "outputs": [
    {
     "data": {
      "text/plain": [
       "2.494341595946812"
      ]
     },
     "execution_count": 4,
     "metadata": {},
     "output_type": "execute_result"
    }
   ],
   "source": [
    "from IMLCV.base.UnitsConstants import kelvin,boltzmann, kjmol\n",
    "\n",
    "300*kelvin*boltzmann/kjmol"
   ]
  },
  {
   "cell_type": "code",
   "execution_count": null,
   "metadata": {},
   "outputs": [
    {
     "name": "stdout",
     "output_type": "stream",
     "text": [
      "cv_round=0\n",
      "not converged kl_div=Array(1.84894023, dtype=float64)\n",
      "i_0=2\n",
      "running round i=2 with 1000 steps\n",
      "grid=[Array([-1.5  , -0.875, -0.25 ,  0.375,  1.   ], dtype=float64), Array([-0.5  ,  0.125,  0.75 ,  1.375,  2.   ], dtype=float64)]\n",
      "k*kjmol=Array([3.83923209e-06, 3.83923209e-06], dtype=float64)\n",
      "len(biases)=16\n",
      "warning: using plain-text when communicating with workers.\n",
      "warning: use encryption with a key and cert when creating the manager.\n",
      "warning: using plain-text when communicating with workers.\n",
      "warning: use encryption with a key and cert when creating the manager.\n"
     ]
    }
   ],
   "source": [
    "scheme.inner_loop(\n",
    "    steps=1000,\n",
    "    n=4,\n",
    "    convergence_kl=0.05,\n",
    "    chunk_size=100,\n",
    "    eps_umbrella=0.15,\n",
    "    max_bias=100 * kjmol,\n",
    ")"
   ]
  },
  {
   "cell_type": "code",
   "execution_count": null,
   "metadata": {},
   "outputs": [],
   "source": []
  },
  {
   "cell_type": "code",
   "execution_count": null,
   "metadata": {},
   "outputs": [],
   "source": [
    "import ase\n",
    "\n",
    "\n",
    "from IMLCV.base.UnitsConstants import electronvolt,kjmol,kelvin,boltzmann\n",
    "\n",
    "kjmol\n",
    "\n",
    "# ase.units.kJ/ase.units.mol"
   ]
  },
  {
   "cell_type": "code",
   "execution_count": null,
   "metadata": {},
   "outputs": [],
   "source": [
    "300 * kelvin*boltzmann"
   ]
  },
  {
   "cell_type": "code",
   "execution_count": 6,
   "metadata": {},
   "outputs": [
    {
     "name": "stdout",
     "output_type": "stream",
     "text": [
      "estimating bias from koopman Theory!\n"
     ]
    }
   ],
   "source": [
    "from IMLCV.base.UnitsConstants import kjmol\n",
    "\n",
    "new_bias = scheme.FESBias(\n",
    "    thermolib=False,\n",
    "    n_max=1e4,\n",
    "    max_bias=100*kjmol,\n",
    "    start_r=0,\n",
    ")\n",
    "\n",
    "scheme.rounds.add_round(bias=new_bias)"
   ]
  },
  {
   "cell_type": "code",
   "execution_count": null,
   "metadata": {},
   "outputs": [],
   "source": [
    "self = scheme\n",
    "self.rounds.add_round_from_md(self.md)"
   ]
  },
  {
   "cell_type": "code",
   "execution_count": null,
   "metadata": {},
   "outputs": [],
   "source": [
    "print(f\"a {2}\")"
   ]
  },
  {
   "cell_type": "code",
   "execution_count": null,
   "metadata": {},
   "outputs": [],
   "source": [
    "from IMLCV.base.UnitsConstants import kelvin,boltzmann\n",
    "\n",
    "300 * kelvin * boltzmann"
   ]
  },
  {
   "cell_type": "code",
   "execution_count": null,
   "metadata": {},
   "outputs": [],
   "source": [
    "md.energy.plot(vmax=100000*kjmol)"
   ]
  },
  {
   "cell_type": "code",
   "execution_count": null,
   "metadata": {},
   "outputs": [],
   "source": [
    "import jax.numpy as jnp\n",
    "\n",
    "def g(x):\n",
    "    return  -0.5 * jnp.log(jnp.exp(-   8 *(  8*(x - 0.1) ) ** 2) + jnp.exp(-(6 * (8*(x - 0.6) )** 2) + 0.5))\n"
   ]
  },
  {
   "cell_type": "code",
   "execution_count": null,
   "metadata": {},
   "outputs": [],
   "source": [
    "x = jnp.linspace(-0.1,1.1,100)\n",
    "y = g(x)"
   ]
  },
  {
   "cell_type": "code",
   "execution_count": null,
   "metadata": {},
   "outputs": [],
   "source": [
    "import matplotlib.pyplot as plt\n",
    "\n",
    "\n",
    "plt.plot(x,y)"
   ]
  },
  {
   "cell_type": "code",
   "execution_count": null,
   "metadata": {},
   "outputs": [],
   "source": []
  }
 ],
 "metadata": {
  "kernelspec": {
   "display_name": "py312",
   "language": "python",
   "name": "python3"
  },
  "language_info": {
   "codemirror_mode": {
    "name": "ipython",
    "version": 3
   },
   "file_extension": ".py",
   "mimetype": "text/x-python",
   "name": "python",
   "nbconvert_exporter": "python",
   "pygments_lexer": "ipython3",
   "version": "3.12.10"
  },
  "widgets": {
   "application/vnd.jupyter.widget-state+json": {
    "state": {},
    "version_major": 2,
    "version_minor": 0
   }
  }
 },
 "nbformat": 4,
 "nbformat_minor": 4
}
