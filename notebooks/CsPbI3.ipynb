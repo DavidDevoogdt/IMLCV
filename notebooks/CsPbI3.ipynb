{
 "cells": [
  {
   "cell_type": "code",
   "execution_count": 1,
   "metadata": {},
   "outputs": [],
   "source": [
    "%load_ext autoreload\n",
    "\n",
    "%autoreload 2"
   ]
  },
  {
   "cell_type": "code",
   "execution_count": null,
   "metadata": {},
   "outputs": [
    {
     "name": "stdout",
     "output_type": "stream",
     "text": [
      "ROOT_DIR=PosixPath('/dodrio/scratch/projects/2024_026/IMLCV/src/IMLCV')\n",
      "node\n",
      "hortense\n",
      "setting python env for hortense\n",
      "executor='work_queue'\n",
      "wall_time_s=14160.0\n"
     ]
    },
    {
     "name": "stderr",
     "output_type": "stream",
     "text": [
      "/dodrio/scratch/projects/2024_026/IMLCV/micromamba/envs/py312/lib/python3.12/subprocess.py:1893: RuntimeWarning: os.fork() was called. os.fork() is incompatible with multithreaded code, and JAX is multithreaded, so this will likely lead to a deadlock.\n",
      "  self.pid = _fork_exec(\n"
     ]
    },
    {
     "name": "stdout",
     "output_type": "stream",
     "text": [
      "setting python env for hortense\n",
      "executor='work_queue'\n",
      "wall_time_s=172560.0\n",
      "setting python env for hortense\n",
      "executor='work_queue'\n",
      "wall_time_s=14160.0\n"
     ]
    },
    {
     "name": "stderr",
     "output_type": "stream",
     "text": [
      "/dodrio/scratch/projects/2024_026/IMLCV/micromamba/envs/py312/lib/python3.12/subprocess.py:1893: RuntimeWarning: os.fork() was called. os.fork() is incompatible with multithreaded code, and JAX is multithreaded, so this will likely lead to a deadlock.\n",
      "  self.pid = _fork_exec(\n"
     ]
    }
   ],
   "source": [
    "from IMLCV.configs.config_general import config\n",
    "\n",
    "# config(\n",
    "#     env=\"local\",\n",
    "#     local_ref_threads=2,\n",
    "#     max_threads_local=10,\n",
    "# )\n",
    "\n",
    "N_TRAIN = 32\n",
    "\n",
    "config(\n",
    "    account=\"2024_117\",\n",
    "    singlepoint_nodes=4,\n",
    "    default_on_threads=False,\n",
    "    cpu_cluster=\"cpu_milan_rhel_9\",\n",
    "    training_cores=N_TRAIN,\n",
    ")\n",
    "\n",
    "# config(\n",
    "\n",
    "#     singlepoint_nodes=4,\n",
    "#     walltime=\"12:00:00\",\n",
    "#     bootstrap=False,\n",
    "#     training_cores=32,\n",
    "\n",
    "# )"
   ]
  },
  {
   "cell_type": "markdown",
   "metadata": {},
   "source": []
  },
  {
   "cell_type": "code",
   "execution_count": 3,
   "metadata": {},
   "outputs": [],
   "source": [
    "from pathlib import Path\n",
    "\n",
    "from IMLCV.base.rounds import Rounds\n",
    "from IMLCV.examples.example_systems import CsPbI3_MACE_lattice\n",
    "from IMLCV.scheme import Scheme\n",
    "\n",
    "folder = Path(\"perovskites\") / \"CsPbI3_cell\"\n",
    "\n",
    "if folder.exists():\n",
    "    scheme = Scheme(rounds=Rounds.create(folder=folder, copy=False, new_folder=False))\n",
    "\n",
    "else:\n",
    "    md, refs = CsPbI3_MACE_lattice()\n",
    "\n",
    "    scheme = Scheme.from_refs(\n",
    "        mde=md,\n",
    "        refs=refs,\n",
    "        folder=folder,\n",
    "        steps=1000,\n",
    "    )"
   ]
  },
  {
   "cell_type": "code",
   "execution_count": null,
   "metadata": {},
   "outputs": [],
   "source": []
  },
  {
   "cell_type": "code",
   "execution_count": 4,
   "metadata": {},
   "outputs": [
    {
     "data": {
      "text/plain": [
       "2.494341595946812"
      ]
     },
     "execution_count": 4,
     "metadata": {},
     "output_type": "execute_result"
    }
   ],
   "source": [
    "from IMLCV.base.UnitsConstants import angstrom, boltzmann, kelvin, kjmol\n",
    "\n",
    "300 * kelvin * boltzmann / kjmol"
   ]
  },
  {
   "cell_type": "code",
   "execution_count": 5,
   "metadata": {},
   "outputs": [
    {
     "name": "stdout",
     "output_type": "stream",
     "text": [
      "n=6\n",
      "n=6 n_max=1728\n"
     ]
    }
   ],
   "source": [
    "steps = 1000\n",
    "\n",
    "chunk_size = 100\n",
    "\n",
    "n = [15, 10, 6][scheme.bias.collective_variable.n - 1]\n",
    "\n",
    "print(f\"{n=}\")\n",
    "\n",
    "max_bias = 100 * kjmol\n",
    "samples_per_bin = 200\n",
    "min_samples_per_bin = 5\n",
    "\n",
    "n_max = (2 * n) ** (scheme.bias.collective_variable.n)\n",
    "\n",
    "print(f\"{n=} {n_max=}\")"
   ]
  },
  {
   "cell_type": "code",
   "execution_count": 6,
   "metadata": {},
   "outputs": [],
   "source": [
    "from molmod.units import angstrom, kjmol\n",
    "\n",
    "r_cut = 5.0 * angstrom\n",
    "\n",
    "chunk_size = None\n",
    "macro_chunk = N_TRAIN * 64  # sampes per worker\n",
    "macro_chunk_nl = N_TRAIN * 128\n",
    "samples_per_bin = 40\n",
    "min_samples_per_bin = 10\n",
    "T_Scale = 10\n",
    "koopman = True\n",
    "eps = 0.10  # 10 percent overlap\n",
    "max_bias = 100 * kjmol\n",
    "num_cv_rnds = 2\n",
    "lag_n = 10\n",
    "koopman_wham = True\n",
    "n_max_descriptors = 2\n",
    "l_max_descriptor = 2\n",
    "alpha_rematch = 0.5\n",
    "ncv = 3\n",
    "min_cv = 2\n",
    "direct_bias = False\n",
    "\n",
    "max_cv_basis_fun = 2000\n",
    "\n",
    "bias_num_points = 1e5\n",
    "cv_num_points = 1e5\n",
    "num_sample_rounds = 5\n",
    "\n",
    "\n",
    "n_max = 2.7e4  # 30**3\n",
    "\n",
    "max_blocks = 512"
   ]
  },
  {
   "cell_type": "code",
   "execution_count": null,
   "metadata": {},
   "outputs": [],
   "source": []
  },
  {
   "cell_type": "code",
   "execution_count": null,
   "metadata": {},
   "outputs": [],
   "source": []
  },
  {
   "cell_type": "code",
   "execution_count": 7,
   "metadata": {},
   "outputs": [],
   "source": [
    "def update_cv():\n",
    "    import jax\n",
    "    import jax.numpy as jnp\n",
    "\n",
    "    from IMLCV.base.CV import CV, CvTrans\n",
    "    from IMLCV.implementations.CV import LatticeInvariants2, _cv_index, get_sinkhorn_divergence_2, sb_descriptor\n",
    "    from IMLCV.implementations.CvDiscovery import TransformerMAF\n",
    "\n",
    "    print(\"getting descriptor\")\n",
    "\n",
    "    descriptor = sb_descriptor(\n",
    "        r_cut=r_cut,\n",
    "        n_max=n_max_descriptors,\n",
    "        l_max=l_max_descriptor,\n",
    "        reshape=True,\n",
    "        reduce=True,\n",
    "    )\n",
    "\n",
    "    rounds = scheme.rounds\n",
    "\n",
    "    dlo_0 = rounds.data_loader(\n",
    "        cv_round=0,\n",
    "        start=0,\n",
    "        weight=False,\n",
    "        new_r_cut=r_cut,\n",
    "        time_series=False,\n",
    "        # lag_n=1,\n",
    "    )\n",
    "\n",
    "    # print(f\"{dlo.nl=} {dlo.sp=}\")\n",
    "\n",
    "    print(\"computing soap descriptor\")\n",
    "\n",
    "    cv_0, _ = dlo_0.apply_cv(\n",
    "        descriptor,\n",
    "        x=dlo_0.sp,\n",
    "        nl=dlo_0.nl,\n",
    "        macro_chunk=macro_chunk,\n",
    "        verbose=True,\n",
    "    )\n",
    "\n",
    "    print(\"sinkhorn div\")\n",
    "    tr = get_sinkhorn_divergence_2(\n",
    "        nli=dlo_0.nl,\n",
    "        pi=CV.stack(*[a[-1] for a in cv_0]),\n",
    "        alpha_rematch=alpha_rematch,\n",
    "        sum_divergence=False,\n",
    "        ddiv_arg=0,\n",
    "        normalize=False,\n",
    "        scale_eps=\"mean\",\n",
    "        scale=None,\n",
    "        # output=\"jacrev\",\n",
    "        push_div=False,\n",
    "    )\n",
    "\n",
    "    cv_1, _ = dlo_0.apply_cv(\n",
    "        tr,\n",
    "        x=cv_0,\n",
    "        nl=dlo_0.nl,\n",
    "        macro_chunk=macro_chunk,\n",
    "        verbose=True,\n",
    "    )\n",
    "\n",
    "    cv_2 = cv_1\n",
    "\n",
    "    print(\"computing nonzero elems\")\n",
    "\n",
    "    cv_2_stack = CV.stack(*cv_2)\n",
    "\n",
    "    idx = jnp.argwhere(jnp.all(jnp.abs(cv_2_stack.cv) > 1e-10, axis=0))\n",
    "\n",
    "    @jax.vmap\n",
    "    def f(x):\n",
    "        return jnp.ravel_multi_index(x, cv_2_stack.shape[1:], mode=\"wrap\")\n",
    "\n",
    "    idx = f(idx)\n",
    "\n",
    "    print(f\"{idx.shape=}\")\n",
    "\n",
    "    sl = CvTrans.from_cv_function(_cv_index, indices=idx)\n",
    "\n",
    "    cv_3, _ = dlo_0.apply_cv(\n",
    "        sl,\n",
    "        x=cv_2,\n",
    "        macro_chunk=macro_chunk,\n",
    "        verbose=True,\n",
    "    )\n",
    "\n",
    "    tot_flow = (descriptor * tr * sl) + LatticeInvariants2\n",
    "\n",
    "    start = 1\n",
    "\n",
    "    if scheme.rounds.cv == 0:\n",
    "        start = 0\n",
    "\n",
    "    if scheme.rounds.cv == 1:\n",
    "        start = 1\n",
    "\n",
    "    scheme.update_CV(\n",
    "        dlo_kwargs=dict(\n",
    "            out=cv_num_points,\n",
    "            num_cv_rounds=1,\n",
    "            time_series=True,\n",
    "            new_r_cut=r_cut,\n",
    "            num=num_cv_rnds + 1,\n",
    "            start=start,\n",
    "            lag_n=lag_n,\n",
    "            split_data=False,\n",
    "            chunk_size=chunk_size,\n",
    "            only_finished=True,\n",
    "            T_scale=T_Scale,\n",
    "            macro_chunk=macro_chunk,\n",
    "            samples_per_bin=samples_per_bin,\n",
    "            min_samples_per_bin=min_samples_per_bin,\n",
    "            macro_chunk_nl=macro_chunk_nl,\n",
    "            verbose=True,\n",
    "            n_max=n_max,\n",
    "            weight=True,\n",
    "            only_update_nl=True,\n",
    "            # reweight_to_fes=True,\n",
    "            reweight_inverse_bincount=True,\n",
    "            scale_times=False,\n",
    "        ),\n",
    "        transformer=TransformerMAF(\n",
    "            outdim=ncv,\n",
    "            descriptor=tot_flow,\n",
    "            pre_scale=False,\n",
    "            correct_bias=True,\n",
    "            use_ground_bias=True,\n",
    "            T_scale=T_Scale,\n",
    "            koopman_weighting=False,\n",
    "            method=\"tcca\",\n",
    "            solver=\"eig\",\n",
    "            max_features=max_cv_basis_fun,\n",
    "            max_features_pre=max_cv_basis_fun,  # if scheme0.rounds.cv > 0 else 100,\n",
    "            trans=None,\n",
    "            eps=1e-8,\n",
    "            eps_pre=1e-5,\n",
    "        ),\n",
    "        chunk_size=chunk_size,\n",
    "        plot=True,\n",
    "        new_r_cut=r_cut,\n",
    "        save_samples=True,\n",
    "        save_multiple_cvs=False,\n",
    "        test=False,\n",
    "        percentile=1e-5,  # get 99.9% of the points\n",
    "        max_bias=max_bias,\n",
    "        macro_chunk=macro_chunk,\n",
    "        verbose=True,\n",
    "        n_max=n_max,\n",
    "    )"
   ]
  },
  {
   "cell_type": "code",
   "execution_count": 8,
   "metadata": {},
   "outputs": [],
   "source": [
    "import jax.numpy as jnp\n",
    "\n",
    "\n",
    "def sample(eps=0.1):\n",
    "    cv_dim = scheme.rounds.get_collective_variable().n\n",
    "\n",
    "    n_umbrella = int(jnp.floor(max_blocks ** (1 / cv_dim)))\n",
    "\n",
    "    if n_umbrella > 30:\n",
    "        n_umbrella = 30\n",
    "\n",
    "    print(f\"n_umbrella: {n_umbrella}\")\n",
    "\n",
    "    scheme.inner_loop(\n",
    "        n=n_umbrella,\n",
    "        rnds=num_sample_rounds if scheme.rounds.cv > 1 else 2,\n",
    "        steps=1000,\n",
    "        init=0,\n",
    "        eps_umbrella=eps,\n",
    "        fes_bias_rnds=num_cv_rnds,\n",
    "        chunk_size=chunk_size,\n",
    "        macro_chunk=macro_chunk,\n",
    "        samples_per_bin=samples_per_bin,\n",
    "        min_samples_per_bin=min_samples_per_bin,\n",
    "        max_bias=max_bias,\n",
    "        n_max_fes=n_max,\n",
    "        convergence_kl=0.05,\n",
    "        thermolib=False,\n",
    "        T_scale=T_Scale,\n",
    "        koopman=koopman,\n",
    "        koopman_wham=koopman_wham,\n",
    "        out=bias_num_points,\n",
    "        direct_bias=direct_bias,\n",
    "        first_round_without_bias=scheme.rounds.cv == 1,\n",
    "    )"
   ]
  },
  {
   "cell_type": "code",
   "execution_count": null,
   "metadata": {},
   "outputs": [],
   "source": []
  },
  {
   "cell_type": "code",
   "execution_count": 9,
   "metadata": {},
   "outputs": [],
   "source": [
    "def get_fes_bias():\n",
    "    bias = scheme.FESBias(\n",
    "        plot=True,\n",
    "        samples_per_bin=samples_per_bin,\n",
    "        min_samples_per_bin=min_samples_per_bin,\n",
    "        chunk_size=chunk_size,\n",
    "        macro_chunk=macro_chunk,\n",
    "        num_rnds=num_cv_rnds,\n",
    "        vmax=max_bias,\n",
    "        max_bias=max_bias,\n",
    "        only_finished=True,\n",
    "        n_max=n_max,\n",
    "        thermolib=False,\n",
    "        out=bias_num_points,\n",
    "        T_scale=T_Scale,\n",
    "        # divide_by_histogram=True,\n",
    "        lag_n=lag_n,\n",
    "        koopman_wham=koopman_wham,\n",
    "        koopman=koopman,\n",
    "        direct_bias=direct_bias,\n",
    "    )\n",
    "\n",
    "    scheme.rounds.add_round(bias=bias)"
   ]
  },
  {
   "cell_type": "code",
   "execution_count": null,
   "metadata": {},
   "outputs": [],
   "source": [
    "md = scheme.md"
   ]
  },
  {
   "cell_type": "code",
   "execution_count": 23,
   "metadata": {},
   "outputs": [
    {
     "data": {
      "text/plain": [
       "(CV(cv=Array([ 1.03109789,  0.7449095 , -1.0033759 ], dtype=float64), mapped=False, atomic=False, _combine_dims=None, _stack_dims=None),\n",
       " EnergyResult(energy=Array(-0.00358554, dtype=float64), gpos=None, vtens=None))"
      ]
     },
     "execution_count": 23,
     "metadata": {},
     "output_type": "execute_result"
    }
   ],
   "source": [
    "md.get_bias(sp=md.sp)"
   ]
  },
  {
   "cell_type": "code",
   "execution_count": null,
   "metadata": {},
   "outputs": [],
   "source": []
  },
  {
   "cell_type": "code",
   "execution_count": null,
   "metadata": {},
   "outputs": [
    {
     "name": "stdout",
     "output_type": "stream",
     "text": [
      "n_umbrella: 7\n",
      "cv_round=1\n",
      "i_0=1\n",
      "running round i=1 with 1000 steps\n",
      "running first round wihtout biases\n",
      "grid=[Array([0.        , 0.14285714, 0.28571429, 0.42857143, 0.57142857,\n",
      "       0.71428571, 0.85714286, 1.        ], dtype=float64), Array([0.        , 0.14285714, 0.28571429, 0.42857143, 0.57142857,\n",
      "       0.71428571, 0.85714286, 1.        ], dtype=float64), Array([0.        , 0.14285714, 0.28571429, 0.42857143, 0.57142857,\n",
      "       0.71428571, 0.85714286, 1.        ], dtype=float64)]\n",
      "k*kjmol=Array([0., 0., 0.], dtype=float64)\n",
      "len(biases)=343\n"
     ]
    },
    {
     "ename": "DependencyError",
     "evalue": "Dependency failure for task 689. The representative cause is via DataFuture from task 688",
     "output_type": "error",
     "traceback": [
      "\u001b[31m---------------------------------------------------------------------------\u001b[39m",
      "\u001b[31mExecutorError\u001b[39m                             Traceback (most recent call last)",
      "\u001b[36mFile \u001b[39m\u001b[32m/dodrio/scratch/projects/2024_026/IMLCV/micromamba/envs/py312/lib/python3.12/site-packages/parsl/dataflow/dflow.py:943\u001b[39m, in \u001b[36mDataFlowKernel._unwrap_futures\u001b[39m\u001b[34m(self, args, kwargs)\u001b[39m\n\u001b[32m    942\u001b[39m \u001b[38;5;28;01mtry\u001b[39;00m:\n\u001b[32m--> \u001b[39m\u001b[32m943\u001b[39m     new_inputs.extend([\u001b[38;5;28;43mself\u001b[39;49m\u001b[43m.\u001b[49m\u001b[43mdependency_resolver\u001b[49m\u001b[43m.\u001b[49m\u001b[43mtraverse_to_unwrap\u001b[49m\u001b[43m(\u001b[49m\u001b[43mdep\u001b[49m\u001b[43m)\u001b[49m])\n\u001b[32m    944\u001b[39m \u001b[38;5;28;01mexcept\u001b[39;00m \u001b[38;5;167;01mException\u001b[39;00m \u001b[38;5;28;01mas\u001b[39;00m e:\n",
      "\u001b[36mFile \u001b[39m\u001b[32m/dodrio/scratch/projects/2024_026/IMLCV/micromamba/envs/py312/lib/python3.12/functools.py:912\u001b[39m, in \u001b[36msingledispatch.<locals>.wrapper\u001b[39m\u001b[34m(*args, **kw)\u001b[39m\n\u001b[32m    909\u001b[39m     \u001b[38;5;28;01mraise\u001b[39;00m \u001b[38;5;167;01mTypeError\u001b[39;00m(\u001b[33mf\u001b[39m\u001b[33m'\u001b[39m\u001b[38;5;132;01m{\u001b[39;00mfuncname\u001b[38;5;132;01m}\u001b[39;00m\u001b[33m requires at least \u001b[39m\u001b[33m'\u001b[39m\n\u001b[32m    910\u001b[39m                     \u001b[33m'\u001b[39m\u001b[33m1 positional argument\u001b[39m\u001b[33m'\u001b[39m)\n\u001b[32m--> \u001b[39m\u001b[32m912\u001b[39m \u001b[38;5;28;01mreturn\u001b[39;00m \u001b[43mdispatch\u001b[49m\u001b[43m(\u001b[49m\u001b[43margs\u001b[49m\u001b[43m[\u001b[49m\u001b[32;43m0\u001b[39;49m\u001b[43m]\u001b[49m\u001b[43m.\u001b[49m\u001b[34;43m__class__\u001b[39;49m\u001b[43m)\u001b[49m\u001b[43m(\u001b[49m\u001b[43m*\u001b[49m\u001b[43margs\u001b[49m\u001b[43m,\u001b[49m\u001b[43m \u001b[49m\u001b[43m*\u001b[49m\u001b[43m*\u001b[49m\u001b[43mkw\u001b[49m\u001b[43m)\u001b[49m\n",
      "\u001b[36mFile \u001b[39m\u001b[32m/dodrio/scratch/projects/2024_026/IMLCV/micromamba/envs/py312/lib/python3.12/functools.py:912\u001b[39m, in \u001b[36msingledispatch.<locals>.wrapper\u001b[39m\u001b[34m(*args, **kw)\u001b[39m\n\u001b[32m    909\u001b[39m     \u001b[38;5;28;01mraise\u001b[39;00m \u001b[38;5;167;01mTypeError\u001b[39;00m(\u001b[33mf\u001b[39m\u001b[33m'\u001b[39m\u001b[38;5;132;01m{\u001b[39;00mfuncname\u001b[38;5;132;01m}\u001b[39;00m\u001b[33m requires at least \u001b[39m\u001b[33m'\u001b[39m\n\u001b[32m    910\u001b[39m                     \u001b[33m'\u001b[39m\u001b[33m1 positional argument\u001b[39m\u001b[33m'\u001b[39m)\n\u001b[32m--> \u001b[39m\u001b[32m912\u001b[39m \u001b[38;5;28;01mreturn\u001b[39;00m \u001b[43mdispatch\u001b[49m\u001b[43m(\u001b[49m\u001b[43margs\u001b[49m\u001b[43m[\u001b[49m\u001b[32;43m0\u001b[39;49m\u001b[43m]\u001b[49m\u001b[43m.\u001b[49m\u001b[34;43m__class__\u001b[39;49m\u001b[43m)\u001b[49m\u001b[43m(\u001b[49m\u001b[43m*\u001b[49m\u001b[43margs\u001b[49m\u001b[43m,\u001b[49m\u001b[43m \u001b[49m\u001b[43m*\u001b[49m\u001b[43m*\u001b[49m\u001b[43mkw\u001b[49m\u001b[43m)\u001b[49m\n",
      "\u001b[36mFile \u001b[39m\u001b[32m/dodrio/scratch/projects/2024_026/IMLCV/micromamba/envs/py312/lib/python3.12/site-packages/parsl/dataflow/dependency_resolvers.py:48\u001b[39m, in \u001b[36m_\u001b[39m\u001b[34m(fut)\u001b[39m\n\u001b[32m     47\u001b[39m \u001b[38;5;28;01massert\u001b[39;00m fut.done()\n\u001b[32m---> \u001b[39m\u001b[32m48\u001b[39m \u001b[38;5;28;01mreturn\u001b[39;00m \u001b[43mfut\u001b[49m\u001b[43m.\u001b[49m\u001b[43mresult\u001b[49m\u001b[43m(\u001b[49m\u001b[43m)\u001b[49m\n",
      "\u001b[36mFile \u001b[39m\u001b[32m/dodrio/scratch/projects/2024_026/IMLCV/micromamba/envs/py312/lib/python3.12/concurrent/futures/_base.py:449\u001b[39m, in \u001b[36mFuture.result\u001b[39m\u001b[34m(self, timeout)\u001b[39m\n\u001b[32m    448\u001b[39m \u001b[38;5;28;01melif\u001b[39;00m \u001b[38;5;28mself\u001b[39m._state == FINISHED:\n\u001b[32m--> \u001b[39m\u001b[32m449\u001b[39m     \u001b[38;5;28;01mreturn\u001b[39;00m \u001b[38;5;28;43mself\u001b[39;49m\u001b[43m.\u001b[49m\u001b[43m__get_result\u001b[49m\u001b[43m(\u001b[49m\u001b[43m)\u001b[49m\n\u001b[32m    451\u001b[39m \u001b[38;5;28mself\u001b[39m._condition.wait(timeout)\n",
      "\u001b[36mFile \u001b[39m\u001b[32m/dodrio/scratch/projects/2024_026/IMLCV/micromamba/envs/py312/lib/python3.12/concurrent/futures/_base.py:401\u001b[39m, in \u001b[36mFuture.__get_result\u001b[39m\u001b[34m(self)\u001b[39m\n\u001b[32m    400\u001b[39m \u001b[38;5;28;01mtry\u001b[39;00m:\n\u001b[32m--> \u001b[39m\u001b[32m401\u001b[39m     \u001b[38;5;28;01mraise\u001b[39;00m \u001b[38;5;28mself\u001b[39m._exception\n\u001b[32m    402\u001b[39m \u001b[38;5;28;01mfinally\u001b[39;00m:\n\u001b[32m    403\u001b[39m     \u001b[38;5;66;03m# Break a reference cycle with the exception in self._exception\u001b[39;00m\n",
      "\u001b[36mFile \u001b[39m\u001b[32m/dodrio/scratch/projects/2024_026/IMLCV/micromamba/envs/py312/lib/python3.12/site-packages/parsl/dataflow/dflow.py:343\u001b[39m, in \u001b[36mDataFlowKernel.handle_exec_update\u001b[39m\u001b[34m(self, task_record, future)\u001b[39m\n\u001b[32m    342\u001b[39m \u001b[38;5;28;01mtry\u001b[39;00m:\n\u001b[32m--> \u001b[39m\u001b[32m343\u001b[39m     res = \u001b[38;5;28;43mself\u001b[39;49m\u001b[43m.\u001b[49m\u001b[43m_unwrap_remote_exception_wrapper\u001b[49m\u001b[43m(\u001b[49m\u001b[43mfuture\u001b[49m\u001b[43m)\u001b[49m\n\u001b[32m    345\u001b[39m \u001b[38;5;28;01mexcept\u001b[39;00m \u001b[38;5;167;01mException\u001b[39;00m \u001b[38;5;28;01mas\u001b[39;00m e:\n",
      "\u001b[36mFile \u001b[39m\u001b[32m/dodrio/scratch/projects/2024_026/IMLCV/micromamba/envs/py312/lib/python3.12/site-packages/parsl/dataflow/dflow.py:605\u001b[39m, in \u001b[36mDataFlowKernel._unwrap_remote_exception_wrapper\u001b[39m\u001b[34m(future)\u001b[39m\n\u001b[32m    603\u001b[39m \u001b[38;5;129m@staticmethod\u001b[39m\n\u001b[32m    604\u001b[39m \u001b[38;5;28;01mdef\u001b[39;00m\u001b[38;5;250m \u001b[39m\u001b[34m_unwrap_remote_exception_wrapper\u001b[39m(future: Future) -> Any:\n\u001b[32m--> \u001b[39m\u001b[32m605\u001b[39m     result = \u001b[43mfuture\u001b[49m\u001b[43m.\u001b[49m\u001b[43mresult\u001b[49m\u001b[43m(\u001b[49m\u001b[43m)\u001b[49m\n\u001b[32m    606\u001b[39m     \u001b[38;5;28;01mif\u001b[39;00m \u001b[38;5;28misinstance\u001b[39m(result, RemoteExceptionWrapper):\n",
      "\u001b[36mFile \u001b[39m\u001b[32m/dodrio/scratch/projects/2024_026/IMLCV/micromamba/envs/py312/lib/python3.12/concurrent/futures/_base.py:449\u001b[39m, in \u001b[36mFuture.result\u001b[39m\u001b[34m(self, timeout)\u001b[39m\n\u001b[32m    448\u001b[39m \u001b[38;5;28;01melif\u001b[39;00m \u001b[38;5;28mself\u001b[39m._state == FINISHED:\n\u001b[32m--> \u001b[39m\u001b[32m449\u001b[39m     \u001b[38;5;28;01mreturn\u001b[39;00m \u001b[38;5;28;43mself\u001b[39;49m\u001b[43m.\u001b[49m\u001b[43m__get_result\u001b[49m\u001b[43m(\u001b[49m\u001b[43m)\u001b[49m\n\u001b[32m    451\u001b[39m \u001b[38;5;28mself\u001b[39m._condition.wait(timeout)\n",
      "\u001b[36mFile \u001b[39m\u001b[32m/dodrio/scratch/projects/2024_026/IMLCV/micromamba/envs/py312/lib/python3.12/concurrent/futures/_base.py:401\u001b[39m, in \u001b[36mFuture.__get_result\u001b[39m\u001b[34m(self)\u001b[39m\n\u001b[32m    400\u001b[39m \u001b[38;5;28;01mtry\u001b[39;00m:\n\u001b[32m--> \u001b[39m\u001b[32m401\u001b[39m     \u001b[38;5;28;01mraise\u001b[39;00m \u001b[38;5;28mself\u001b[39m._exception\n\u001b[32m    402\u001b[39m \u001b[38;5;28;01mfinally\u001b[39;00m:\n\u001b[32m    403\u001b[39m     \u001b[38;5;66;03m# Break a reference cycle with the exception in self._exception\u001b[39;00m\n",
      "\u001b[36mFile \u001b[39m\u001b[32m/dodrio/scratch/projects/2024_026/IMLCV/micromamba/envs/py312/lib/python3.12/site-packages/parsl/dataflow/dflow.py:666\u001b[39m, in \u001b[36mDataFlowKernel._launch_if_ready_async\u001b[39m\u001b[34m(self, task_record)\u001b[39m\n\u001b[32m    665\u001b[39m \u001b[38;5;28;01mtry\u001b[39;00m:\n\u001b[32m--> \u001b[39m\u001b[32m666\u001b[39m     exec_fu = \u001b[38;5;28;43mself\u001b[39;49m\u001b[43m.\u001b[49m\u001b[43mlaunch_task\u001b[49m\u001b[43m(\u001b[49m\u001b[43mtask_record\u001b[49m\u001b[43m)\u001b[49m\n\u001b[32m    667\u001b[39m     \u001b[38;5;28;01massert\u001b[39;00m \u001b[38;5;28misinstance\u001b[39m(exec_fu, Future)\n",
      "\u001b[36mFile \u001b[39m\u001b[32m/dodrio/scratch/projects/2024_026/IMLCV/micromamba/envs/py312/lib/python3.12/site-packages/parsl/dataflow/dflow.py:754\u001b[39m, in \u001b[36mDataFlowKernel.launch_task\u001b[39m\u001b[34m(self, task_record)\u001b[39m\n\u001b[32m    753\u001b[39m \u001b[38;5;28;01mwith\u001b[39;00m \u001b[38;5;28mself\u001b[39m.submitter_lock:\n\u001b[32m--> \u001b[39m\u001b[32m754\u001b[39m     exec_fu = \u001b[43mexecutor\u001b[49m\u001b[43m.\u001b[49m\u001b[43msubmit\u001b[49m\u001b[43m(\u001b[49m\u001b[43mfunction\u001b[49m\u001b[43m,\u001b[49m\u001b[43m \u001b[49m\u001b[43mtask_record\u001b[49m\u001b[43m[\u001b[49m\u001b[33;43m'\u001b[39;49m\u001b[33;43mresource_specification\u001b[39;49m\u001b[33;43m'\u001b[39;49m\u001b[43m]\u001b[49m\u001b[43m,\u001b[49m\u001b[43m \u001b[49m\u001b[43m*\u001b[49m\u001b[43margs\u001b[49m\u001b[43m,\u001b[49m\u001b[43m \u001b[49m\u001b[43m*\u001b[49m\u001b[43m*\u001b[49m\u001b[43mkwargs\u001b[49m\u001b[43m)\u001b[49m\n\u001b[32m    755\u001b[39m \u001b[38;5;28mself\u001b[39m.update_task_state(task_record, States.launched)\n",
      "\u001b[36mFile \u001b[39m\u001b[32m/dodrio/scratch/projects/2024_026/IMLCV/micromamba/envs/py312/lib/python3.12/site-packages/parsl/executors/workqueue/executor.py:511\u001b[39m, in \u001b[36mWorkQueueExecutor.submit\u001b[39m\u001b[34m(self, func, resource_specification, *args, **kwargs)\u001b[39m\n\u001b[32m    510\u001b[39m \u001b[38;5;28;01mif\u001b[39;00m \u001b[38;5;129;01mnot\u001b[39;00m \u001b[38;5;28mself\u001b[39m.submit_process.is_alive():\n\u001b[32m--> \u001b[39m\u001b[32m511\u001b[39m     \u001b[38;5;28;01mraise\u001b[39;00m ExecutorError(\u001b[38;5;28mself\u001b[39m, \u001b[33m\"\u001b[39m\u001b[33mWorkqueue Submit Process is not alive\u001b[39m\u001b[33m\"\u001b[39m)\n\u001b[32m    513\u001b[39m \u001b[38;5;66;03m# Create message to put into the message queue\u001b[39;00m\n",
      "\u001b[31mExecutorError\u001b[39m: Executor training_cpu_milan_rhel_9 failed due to: Workqueue Submit Process is not alive",
      "\nThe above exception was the direct cause of the following exception:\n",
      "\u001b[31mDependencyError\u001b[39m                           Traceback (most recent call last)",
      "\u001b[36mCell\u001b[39m\u001b[36m \u001b[39m\u001b[32mIn[24]\u001b[39m\u001b[32m, line 5\u001b[39m\n\u001b[32m      2\u001b[39m     update_cv()\n\u001b[32m      4\u001b[39m \u001b[38;5;28;01mfor\u001b[39;00m i \u001b[38;5;129;01min\u001b[39;00m \u001b[38;5;28mrange\u001b[39m(\u001b[32m10\u001b[39m):\n\u001b[32m----> \u001b[39m\u001b[32m5\u001b[39m     \u001b[43msample\u001b[49m\u001b[43m(\u001b[49m\u001b[43meps\u001b[49m\u001b[43m=\u001b[49m\u001b[43meps\u001b[49m\u001b[43m)\u001b[49m\n\u001b[32m      6\u001b[39m     update_cv()\n",
      "\u001b[36mCell\u001b[39m\u001b[36m \u001b[39m\u001b[32mIn[8]\u001b[39m\u001b[32m, line 14\u001b[39m, in \u001b[36msample\u001b[39m\u001b[34m(eps)\u001b[39m\n\u001b[32m     10\u001b[39m     n_umbrella = \u001b[32m30\u001b[39m\n\u001b[32m     12\u001b[39m \u001b[38;5;28mprint\u001b[39m(\u001b[33mf\u001b[39m\u001b[33m\"\u001b[39m\u001b[33mn_umbrella: \u001b[39m\u001b[38;5;132;01m{\u001b[39;00mn_umbrella\u001b[38;5;132;01m}\u001b[39;00m\u001b[33m\"\u001b[39m)\n\u001b[32m---> \u001b[39m\u001b[32m14\u001b[39m \u001b[43mscheme\u001b[49m\u001b[43m.\u001b[49m\u001b[43minner_loop\u001b[49m\u001b[43m(\u001b[49m\n\u001b[32m     15\u001b[39m \u001b[43m    \u001b[49m\u001b[43mn\u001b[49m\u001b[43m=\u001b[49m\u001b[43mn_umbrella\u001b[49m\u001b[43m,\u001b[49m\n\u001b[32m     16\u001b[39m \u001b[43m    \u001b[49m\u001b[43mrnds\u001b[49m\u001b[43m=\u001b[49m\u001b[43mnum_sample_rounds\u001b[49m\u001b[43m \u001b[49m\u001b[38;5;28;43;01mif\u001b[39;49;00m\u001b[43m \u001b[49m\u001b[43mscheme\u001b[49m\u001b[43m.\u001b[49m\u001b[43mrounds\u001b[49m\u001b[43m.\u001b[49m\u001b[43mcv\u001b[49m\u001b[43m \u001b[49m\u001b[43m>\u001b[49m\u001b[43m \u001b[49m\u001b[32;43m1\u001b[39;49m\u001b[43m \u001b[49m\u001b[38;5;28;43;01melse\u001b[39;49;00m\u001b[43m \u001b[49m\u001b[32;43m2\u001b[39;49m\u001b[43m,\u001b[49m\n\u001b[32m     17\u001b[39m \u001b[43m    \u001b[49m\u001b[43msteps\u001b[49m\u001b[43m=\u001b[49m\u001b[32;43m1000\u001b[39;49m\u001b[43m,\u001b[49m\n\u001b[32m     18\u001b[39m \u001b[43m    \u001b[49m\u001b[43minit\u001b[49m\u001b[43m=\u001b[49m\u001b[32;43m0\u001b[39;49m\u001b[43m,\u001b[49m\n\u001b[32m     19\u001b[39m \u001b[43m    \u001b[49m\u001b[43meps_umbrella\u001b[49m\u001b[43m=\u001b[49m\u001b[43meps\u001b[49m\u001b[43m,\u001b[49m\n\u001b[32m     20\u001b[39m \u001b[43m    \u001b[49m\u001b[43mfes_bias_rnds\u001b[49m\u001b[43m=\u001b[49m\u001b[43mnum_cv_rnds\u001b[49m\u001b[43m,\u001b[49m\n\u001b[32m     21\u001b[39m \u001b[43m    \u001b[49m\u001b[43mchunk_size\u001b[49m\u001b[43m=\u001b[49m\u001b[43mchunk_size\u001b[49m\u001b[43m,\u001b[49m\n\u001b[32m     22\u001b[39m \u001b[43m    \u001b[49m\u001b[43mmacro_chunk\u001b[49m\u001b[43m=\u001b[49m\u001b[43mmacro_chunk\u001b[49m\u001b[43m,\u001b[49m\n\u001b[32m     23\u001b[39m \u001b[43m    \u001b[49m\u001b[43msamples_per_bin\u001b[49m\u001b[43m=\u001b[49m\u001b[43msamples_per_bin\u001b[49m\u001b[43m,\u001b[49m\n\u001b[32m     24\u001b[39m \u001b[43m    \u001b[49m\u001b[43mmin_samples_per_bin\u001b[49m\u001b[43m=\u001b[49m\u001b[43mmin_samples_per_bin\u001b[49m\u001b[43m,\u001b[49m\n\u001b[32m     25\u001b[39m \u001b[43m    \u001b[49m\u001b[43mmax_bias\u001b[49m\u001b[43m=\u001b[49m\u001b[43mmax_bias\u001b[49m\u001b[43m,\u001b[49m\n\u001b[32m     26\u001b[39m \u001b[43m    \u001b[49m\u001b[43mn_max_fes\u001b[49m\u001b[43m=\u001b[49m\u001b[43mn_max\u001b[49m\u001b[43m,\u001b[49m\n\u001b[32m     27\u001b[39m \u001b[43m    \u001b[49m\u001b[43mconvergence_kl\u001b[49m\u001b[43m=\u001b[49m\u001b[32;43m0.05\u001b[39;49m\u001b[43m,\u001b[49m\n\u001b[32m     28\u001b[39m \u001b[43m    \u001b[49m\u001b[43mthermolib\u001b[49m\u001b[43m=\u001b[49m\u001b[38;5;28;43;01mFalse\u001b[39;49;00m\u001b[43m,\u001b[49m\n\u001b[32m     29\u001b[39m \u001b[43m    \u001b[49m\u001b[43mT_scale\u001b[49m\u001b[43m=\u001b[49m\u001b[43mT_Scale\u001b[49m\u001b[43m,\u001b[49m\n\u001b[32m     30\u001b[39m \u001b[43m    \u001b[49m\u001b[43mkoopman\u001b[49m\u001b[43m=\u001b[49m\u001b[43mkoopman\u001b[49m\u001b[43m,\u001b[49m\n\u001b[32m     31\u001b[39m \u001b[43m    \u001b[49m\u001b[43mkoopman_wham\u001b[49m\u001b[43m=\u001b[49m\u001b[43mkoopman_wham\u001b[49m\u001b[43m,\u001b[49m\n\u001b[32m     32\u001b[39m \u001b[43m    \u001b[49m\u001b[43mout\u001b[49m\u001b[43m=\u001b[49m\u001b[43mbias_num_points\u001b[49m\u001b[43m,\u001b[49m\n\u001b[32m     33\u001b[39m \u001b[43m    \u001b[49m\u001b[43mdirect_bias\u001b[49m\u001b[43m=\u001b[49m\u001b[43mdirect_bias\u001b[49m\u001b[43m,\u001b[49m\n\u001b[32m     34\u001b[39m \u001b[43m    \u001b[49m\u001b[43mfirst_round_without_bias\u001b[49m\u001b[43m=\u001b[49m\u001b[43m \u001b[49m\u001b[43mscheme\u001b[49m\u001b[43m.\u001b[49m\u001b[43mrounds\u001b[49m\u001b[43m.\u001b[49m\u001b[43mcv\u001b[49m\u001b[43m \u001b[49m\u001b[43m==\u001b[49m\u001b[43m \u001b[49m\u001b[32;43m1\u001b[39;49m\u001b[43m,\u001b[49m\n\u001b[32m     35\u001b[39m \u001b[43m\u001b[49m\u001b[43m)\u001b[49m\n",
      "\u001b[36mFile \u001b[39m\u001b[32m/dodrio/scratch/projects/2024_026/IMLCV/src/IMLCV/scheme.py:239\u001b[39m, in \u001b[36mScheme.inner_loop\u001b[39m\u001b[34m(self, rnds, convergence_kl, steps, K, update_metric, n, samples_per_bin, min_samples_per_bin, init_max_grad, plot, choice, fes_bias_rnds, scale_n, cv_round, chunk_size, eps_umbrella, plot_margin, enforce_min_traj_length, recalc_cv, only_finished, plot_umbrella, max_bias, n_max_fes, thermolib, macro_chunk, T_scale, koopman, lag_n, koopman_wham, out, direct_bias, init, first_round_without_bias)\u001b[39m\n\u001b[32m    236\u001b[39m \u001b[38;5;28;01mif\u001b[39;00m without_bias:\n\u001b[32m    237\u001b[39m     \u001b[38;5;28mprint\u001b[39m(\u001b[33mf\u001b[39m\u001b[33m\"\u001b[39m\u001b[33mrunning first round wihtout biases\u001b[39m\u001b[33m\"\u001b[39m)\n\u001b[32m--> \u001b[39m\u001b[32m239\u001b[39m \u001b[38;5;28;43mself\u001b[39;49m\u001b[43m.\u001b[49m\u001b[43mgrid_umbrella\u001b[49m\u001b[43m(\u001b[49m\n\u001b[32m    240\u001b[39m \u001b[43m    \u001b[49m\u001b[43msteps\u001b[49m\u001b[43m=\u001b[49m\u001b[43msteps\u001b[49m\u001b[43m,\u001b[49m\n\u001b[32m    241\u001b[39m \u001b[43m    \u001b[49m\u001b[43mn\u001b[49m\u001b[43m=\u001b[49m\u001b[43mn\u001b[49m\u001b[43m,\u001b[49m\n\u001b[32m    242\u001b[39m \u001b[43m    \u001b[49m\u001b[43mk\u001b[49m\u001b[43m=\u001b[49m\u001b[43mK\u001b[49m\u001b[43m,\u001b[49m\n\u001b[32m    243\u001b[39m \u001b[43m    \u001b[49m\u001b[43mplot\u001b[49m\u001b[43m=\u001b[49m\u001b[43mplot_umbrella\u001b[49m\u001b[43m,\u001b[49m\n\u001b[32m    244\u001b[39m \u001b[43m    \u001b[49m\u001b[43mscale_n\u001b[49m\u001b[43m=\u001b[49m\u001b[43mscale_n\u001b[49m\u001b[43m,\u001b[49m\n\u001b[32m    245\u001b[39m \u001b[43m    \u001b[49m\u001b[43mcv_round\u001b[49m\u001b[43m=\u001b[49m\u001b[43mcv_round\u001b[49m\u001b[43m,\u001b[49m\n\u001b[32m    246\u001b[39m \u001b[43m    \u001b[49m\u001b[43mignore_invalid\u001b[49m\u001b[43m=\u001b[49m\u001b[38;5;28;43;01mFalse\u001b[39;49;00m\u001b[43m,\u001b[49m\n\u001b[32m    247\u001b[39m \u001b[43m    \u001b[49m\u001b[43meps\u001b[49m\u001b[43m=\u001b[49m\u001b[43meps_umbrella\u001b[49m\u001b[43m \u001b[49m\u001b[38;5;28;43;01mif\u001b[39;49;00m\u001b[43m \u001b[49m\u001b[38;5;129;43;01mnot\u001b[39;49;00m\u001b[43m \u001b[49m\u001b[43mwithout_bias\u001b[49m\u001b[43m \u001b[49m\u001b[38;5;28;43;01melse\u001b[39;49;00m\u001b[43m \u001b[49m\u001b[32;43m1\u001b[39;49m\u001b[43m,\u001b[49m\n\u001b[32m    248\u001b[39m \u001b[43m    \u001b[49m\u001b[43mmin_traj_length\u001b[49m\u001b[43m=\u001b[49m\u001b[43msteps\u001b[49m\u001b[43m \u001b[49m\u001b[38;5;28;43;01mif\u001b[39;49;00m\u001b[43m \u001b[49m\u001b[43m(\u001b[49m\u001b[43mi\u001b[49m\u001b[43m \u001b[49m\u001b[43m>\u001b[49m\u001b[43m \u001b[49m\u001b[32;43m1\u001b[39;49m\u001b[43m \u001b[49m\u001b[38;5;129;43;01mand\u001b[39;49;00m\u001b[43m \u001b[49m\u001b[43menforce_min_traj_length\u001b[49m\u001b[43m)\u001b[49m\u001b[43m \u001b[49m\u001b[38;5;28;43;01melse\u001b[39;49;00m\u001b[43m \u001b[49m\u001b[38;5;28;43;01mNone\u001b[39;49;00m\u001b[43m,\u001b[49m\n\u001b[32m    249\u001b[39m \u001b[43m    \u001b[49m\u001b[43mrecalc_cv\u001b[49m\u001b[43m=\u001b[49m\u001b[43mrecalc_cv\u001b[49m\u001b[43m,\u001b[49m\n\u001b[32m    250\u001b[39m \u001b[43m    \u001b[49m\u001b[43monly_finished\u001b[49m\u001b[43m=\u001b[49m\u001b[43mi\u001b[49m\u001b[43m \u001b[49m\u001b[43m>\u001b[49m\u001b[43m \u001b[49m\u001b[32;43m1\u001b[39;49m\u001b[43m \u001b[49m\u001b[38;5;129;43;01mand\u001b[39;49;00m\u001b[43m \u001b[49m\u001b[43monly_finished\u001b[49m\u001b[43m,\u001b[49m\n\u001b[32m    251\u001b[39m \u001b[43m    \u001b[49m\u001b[43mchunk_size\u001b[49m\u001b[43m=\u001b[49m\u001b[43mchunk_size\u001b[49m\u001b[43m,\u001b[49m\n\u001b[32m    252\u001b[39m \u001b[43m    \u001b[49m\u001b[43mT_scale\u001b[49m\u001b[43m=\u001b[49m\u001b[43mT_scale\u001b[49m\u001b[43m,\u001b[49m\n\u001b[32m    253\u001b[39m \u001b[43m    \u001b[49m\u001b[38;5;66;43;03m# use_fes_bias=True,\u001b[39;49;00m\n\u001b[32m    254\u001b[39m \u001b[43m\u001b[49m\u001b[43m)\u001b[49m\n\u001b[32m    256\u001b[39m prev_bias = \u001b[38;5;28mself\u001b[39m.rounds.get_bias(c=cv_round, r=i)\n\u001b[32m    258\u001b[39m new_bias = \u001b[38;5;28mself\u001b[39m.FESBias(\n\u001b[32m    259\u001b[39m     plot=plot,\n\u001b[32m    260\u001b[39m     samples_per_bin=samples_per_bin,\n\u001b[32m   (...)\u001b[39m\u001b[32m    279\u001b[39m     direct_bias=direct_bias,\n\u001b[32m    280\u001b[39m )\n",
      "\u001b[36mFile \u001b[39m\u001b[32m/dodrio/scratch/projects/2024_026/IMLCV/src/IMLCV/scheme.py:138\u001b[39m, in \u001b[36mScheme.grid_umbrella\u001b[39m\u001b[34m(self, steps, k, n, max_grad, plot, scale_n, cv_round, ignore_invalid, eps, min_traj_length, recalc_cv, only_finished, chunk_size, T_scale)\u001b[39m\n\u001b[32m    135\u001b[39m \u001b[38;5;28;01melse\u001b[39;00m:\n\u001b[32m    136\u001b[39m     sp0 = \u001b[38;5;28;01mNone\u001b[39;00m\n\u001b[32m--> \u001b[39m\u001b[32m138\u001b[39m \u001b[38;5;28;43mself\u001b[39;49m\u001b[43m.\u001b[49m\u001b[43mrounds\u001b[49m\u001b[43m.\u001b[49m\u001b[43mrun_par\u001b[49m\u001b[43m(\u001b[49m\n\u001b[32m    139\u001b[39m \u001b[43m    \u001b[49m\u001b[43mbiases\u001b[49m\u001b[43m=\u001b[49m\u001b[43mbiases\u001b[49m\u001b[43m,\u001b[49m\n\u001b[32m    140\u001b[39m \u001b[43m    \u001b[49m\u001b[43msteps\u001b[49m\u001b[43m=\u001b[49m\u001b[43msteps\u001b[49m\u001b[43m,\u001b[49m\n\u001b[32m    141\u001b[39m \u001b[43m    \u001b[49m\u001b[43mplot\u001b[49m\u001b[43m=\u001b[49m\u001b[43mplot\u001b[49m\u001b[43m,\u001b[49m\n\u001b[32m    142\u001b[39m \u001b[43m    \u001b[49m\u001b[43mcv_round\u001b[49m\u001b[43m=\u001b[49m\u001b[43mcv_round\u001b[49m\u001b[43m,\u001b[49m\n\u001b[32m    143\u001b[39m \u001b[43m    \u001b[49m\u001b[43mignore_invalid\u001b[49m\u001b[43m=\u001b[49m\u001b[43mignore_invalid\u001b[49m\u001b[43m,\u001b[49m\n\u001b[32m    144\u001b[39m \u001b[43m    \u001b[49m\u001b[43mmin_traj_length\u001b[49m\u001b[43m=\u001b[49m\u001b[43mmin_traj_length\u001b[49m\u001b[43m,\u001b[49m\n\u001b[32m    145\u001b[39m \u001b[43m    \u001b[49m\u001b[43mrecalc_cv\u001b[49m\u001b[43m=\u001b[49m\u001b[43mrecalc_cv\u001b[49m\u001b[43m,\u001b[49m\n\u001b[32m    146\u001b[39m \u001b[43m    \u001b[49m\u001b[43monly_finished\u001b[49m\u001b[43m=\u001b[49m\u001b[43monly_finished\u001b[49m\u001b[43m,\u001b[49m\n\u001b[32m    147\u001b[39m \u001b[43m    \u001b[49m\u001b[43msp0\u001b[49m\u001b[43m=\u001b[49m\u001b[43msp0\u001b[49m\u001b[43m,\u001b[49m\n\u001b[32m    148\u001b[39m \u001b[43m    \u001b[49m\u001b[43mchunk_size\u001b[49m\u001b[43m=\u001b[49m\u001b[43mchunk_size\u001b[49m\u001b[43m,\u001b[49m\n\u001b[32m    149\u001b[39m \u001b[43m    \u001b[49m\u001b[43mT_scale\u001b[49m\u001b[43m=\u001b[49m\u001b[43mT_scale\u001b[49m\u001b[43m,\u001b[49m\n\u001b[32m    150\u001b[39m \u001b[43m    \u001b[49m\u001b[38;5;66;43;03m# use_fes_bias=True,\u001b[39;49;00m\n\u001b[32m    151\u001b[39m \u001b[43m\u001b[49m\u001b[43m)\u001b[49m\n",
      "\u001b[36mFile \u001b[39m\u001b[32m/dodrio/scratch/projects/2024_026/IMLCV/src/IMLCV/base/rounds.py:2060\u001b[39m, in \u001b[36mRounds.run_par\u001b[39m\u001b[34m(self, biases, steps, plot, KEY, sp0, ignore_invalid, md_trajs, cv_round, wait_for_plots, min_traj_length, recalc_cv, only_finished, profile, chunk_size, T_scale, macro_chunk, lag_n, use_fes_bias)\u001b[39m\n\u001b[32m   2035\u001b[39m common_md_name = \u001b[38;5;28mself\u001b[39m.full_path(\u001b[38;5;28mself\u001b[39m._name_md(c=cv_round, r=r))\n\u001b[32m   2037\u001b[39m pn = \u001b[38;5;28mself\u001b[39m.path(c=cv_round, r=r)\n\u001b[32m   2039\u001b[39m out = \u001b[43mbash_app_python\u001b[49m\u001b[43m(\u001b[49m\n\u001b[32m   2040\u001b[39m \u001b[43m    \u001b[49m\u001b[43mRounds\u001b[49m\u001b[43m.\u001b[49m\u001b[43m_get_init\u001b[49m\u001b[43m,\u001b[49m\n\u001b[32m   2041\u001b[39m \u001b[43m    \u001b[49m\u001b[43mexecutors\u001b[49m\u001b[43m=\u001b[49m\u001b[43mExecutors\u001b[49m\u001b[43m.\u001b[49m\u001b[43mtraining\u001b[49m\u001b[43m,\u001b[49m\n\u001b[32m   2042\u001b[39m \u001b[43m\u001b[49m\u001b[43m)\u001b[49m\u001b[43m(\u001b[49m\n\u001b[32m   2043\u001b[39m \u001b[43m    \u001b[49m\u001b[43mrounds\u001b[49m\u001b[43m=\u001b[49m\u001b[38;5;28;43mself\u001b[39;49m\u001b[43m,\u001b[49m\n\u001b[32m   2044\u001b[39m \u001b[43m    \u001b[49m\u001b[43mKEY\u001b[49m\u001b[43m=\u001b[49m\u001b[43mKEY\u001b[49m\u001b[43m,\u001b[49m\n\u001b[32m   2045\u001b[39m \u001b[43m    \u001b[49m\u001b[43mignore_invalid\u001b[49m\u001b[43m=\u001b[49m\u001b[43mignore_invalid\u001b[49m\u001b[43m,\u001b[49m\n\u001b[32m   2046\u001b[39m \u001b[43m    \u001b[49m\u001b[43monly_finished\u001b[49m\u001b[43m=\u001b[49m\u001b[43monly_finished\u001b[49m\u001b[43m,\u001b[49m\n\u001b[32m   2047\u001b[39m \u001b[43m    \u001b[49m\u001b[43mmin_traj_length\u001b[49m\u001b[43m=\u001b[49m\u001b[43mmin_traj_length\u001b[49m\u001b[43m,\u001b[49m\n\u001b[32m   2048\u001b[39m \u001b[43m    \u001b[49m\u001b[43mrecalc_cv\u001b[49m\u001b[43m=\u001b[49m\u001b[43mrecalc_cv\u001b[49m\u001b[43m,\u001b[49m\n\u001b[32m   2049\u001b[39m \u001b[43m    \u001b[49m\u001b[43mT_scale\u001b[49m\u001b[43m=\u001b[49m\u001b[43mT_scale\u001b[49m\u001b[43m,\u001b[49m\n\u001b[32m   2050\u001b[39m \u001b[43m    \u001b[49m\u001b[43mchunk_size\u001b[49m\u001b[43m=\u001b[49m\u001b[43mchunk_size\u001b[49m\u001b[43m,\u001b[49m\n\u001b[32m   2051\u001b[39m \u001b[43m    \u001b[49m\u001b[43mmd_trajs\u001b[49m\u001b[43m=\u001b[49m\u001b[43mmd_trajs\u001b[49m\u001b[43m,\u001b[49m\n\u001b[32m   2052\u001b[39m \u001b[43m    \u001b[49m\u001b[43mcv_round\u001b[49m\u001b[43m=\u001b[49m\u001b[43mcv_round\u001b[49m\u001b[43m,\u001b[49m\n\u001b[32m   2053\u001b[39m \u001b[43m    \u001b[49m\u001b[43mbiases\u001b[49m\u001b[43m=\u001b[49m\u001b[43mbiases\u001b[49m\u001b[43m,\u001b[49m\n\u001b[32m   2054\u001b[39m \u001b[43m    \u001b[49m\u001b[43msp0\u001b[49m\u001b[43m=\u001b[49m\u001b[43msp0\u001b[49m\u001b[43m,\u001b[49m\n\u001b[32m   2055\u001b[39m \u001b[43m    \u001b[49m\u001b[43mcommon_bias_name\u001b[49m\u001b[43m=\u001b[49m\u001b[43mcommon_bias_name\u001b[49m\u001b[43m,\u001b[49m\n\u001b[32m   2056\u001b[39m \u001b[43m    \u001b[49m\u001b[43mr\u001b[49m\u001b[43m=\u001b[49m\u001b[43mr\u001b[49m\u001b[43m,\u001b[49m\n\u001b[32m   2057\u001b[39m \u001b[43m    \u001b[49m\u001b[43mexecution_folder\u001b[49m\u001b[43m=\u001b[49m\u001b[43mpn\u001b[49m\u001b[43m,\u001b[49m\n\u001b[32m   2058\u001b[39m \u001b[43m    \u001b[49m\u001b[43mmacro_chunk\u001b[49m\u001b[43m=\u001b[49m\u001b[43mmacro_chunk\u001b[49m\u001b[43m,\u001b[49m\n\u001b[32m   2059\u001b[39m \u001b[43m    \u001b[49m\u001b[43mlag_n\u001b[49m\u001b[43m=\u001b[49m\u001b[43mlag_n\u001b[49m\u001b[43m,\u001b[49m\n\u001b[32m-> \u001b[39m\u001b[32m2060\u001b[39m \u001b[43m\u001b[49m\u001b[43m)\u001b[49m\u001b[43m.\u001b[49m\u001b[43mresult\u001b[49m\u001b[43m(\u001b[49m\u001b[43m)\u001b[49m\n\u001b[32m   2062\u001b[39m \u001b[38;5;28;01mfrom\u001b[39;00m\u001b[38;5;250m \u001b[39m\u001b[34;01mparsl\u001b[39;00m\u001b[34;01m.\u001b[39;00m\u001b[34;01mdataflow\u001b[39;00m\u001b[34;01m.\u001b[39;00m\u001b[34;01mdflow\u001b[39;00m\u001b[38;5;250m \u001b[39m\u001b[38;5;28;01mimport\u001b[39;00m AppFuture\n\u001b[32m   2064\u001b[39m tasks: \u001b[38;5;28mlist\u001b[39m[\u001b[38;5;28mtuple\u001b[39m[\u001b[38;5;28mint\u001b[39m, AppFuture]] | \u001b[38;5;28;01mNone\u001b[39;00m = \u001b[38;5;28;01mNone\u001b[39;00m\n",
      "\u001b[36mFile \u001b[39m\u001b[32m/dodrio/scratch/projects/2024_026/IMLCV/micromamba/envs/py312/lib/python3.12/concurrent/futures/_base.py:456\u001b[39m, in \u001b[36mFuture.result\u001b[39m\u001b[34m(self, timeout)\u001b[39m\n\u001b[32m    454\u001b[39m     \u001b[38;5;28;01mraise\u001b[39;00m CancelledError()\n\u001b[32m    455\u001b[39m \u001b[38;5;28;01melif\u001b[39;00m \u001b[38;5;28mself\u001b[39m._state == FINISHED:\n\u001b[32m--> \u001b[39m\u001b[32m456\u001b[39m     \u001b[38;5;28;01mreturn\u001b[39;00m \u001b[38;5;28;43mself\u001b[39;49m\u001b[43m.\u001b[49m\u001b[43m__get_result\u001b[49m\u001b[43m(\u001b[49m\u001b[43m)\u001b[49m\n\u001b[32m    457\u001b[39m \u001b[38;5;28;01melse\u001b[39;00m:\n\u001b[32m    458\u001b[39m     \u001b[38;5;28;01mraise\u001b[39;00m \u001b[38;5;167;01mTimeoutError\u001b[39;00m()\n",
      "\u001b[36mFile \u001b[39m\u001b[32m/dodrio/scratch/projects/2024_026/IMLCV/micromamba/envs/py312/lib/python3.12/concurrent/futures/_base.py:401\u001b[39m, in \u001b[36mFuture.__get_result\u001b[39m\u001b[34m(self)\u001b[39m\n\u001b[32m    399\u001b[39m \u001b[38;5;28;01mif\u001b[39;00m \u001b[38;5;28mself\u001b[39m._exception:\n\u001b[32m    400\u001b[39m     \u001b[38;5;28;01mtry\u001b[39;00m:\n\u001b[32m--> \u001b[39m\u001b[32m401\u001b[39m         \u001b[38;5;28;01mraise\u001b[39;00m \u001b[38;5;28mself\u001b[39m._exception\n\u001b[32m    402\u001b[39m     \u001b[38;5;28;01mfinally\u001b[39;00m:\n\u001b[32m    403\u001b[39m         \u001b[38;5;66;03m# Break a reference cycle with the exception in self._exception\u001b[39;00m\n\u001b[32m    404\u001b[39m         \u001b[38;5;28mself\u001b[39m = \u001b[38;5;28;01mNone\u001b[39;00m\n",
      "\u001b[36mFile \u001b[39m\u001b[32m/dodrio/scratch/projects/2024_026/IMLCV/micromamba/envs/py312/lib/python3.12/site-packages/parsl/dataflow/dflow.py:343\u001b[39m, in \u001b[36mDataFlowKernel.handle_exec_update\u001b[39m\u001b[34m(self, task_record, future)\u001b[39m\n\u001b[32m    340\u001b[39m     \u001b[38;5;28;01mraise\u001b[39;00m InternalConsistencyError(\u001b[33m\"\u001b[39m\u001b[33mdone callback called, despite future not reporting itself as done\u001b[39m\u001b[33m\"\u001b[39m)\n\u001b[32m    342\u001b[39m \u001b[38;5;28;01mtry\u001b[39;00m:\n\u001b[32m--> \u001b[39m\u001b[32m343\u001b[39m     res = \u001b[38;5;28;43mself\u001b[39;49m\u001b[43m.\u001b[49m\u001b[43m_unwrap_remote_exception_wrapper\u001b[49m\u001b[43m(\u001b[49m\u001b[43mfuture\u001b[49m\u001b[43m)\u001b[49m\n\u001b[32m    345\u001b[39m \u001b[38;5;28;01mexcept\u001b[39;00m \u001b[38;5;167;01mException\u001b[39;00m \u001b[38;5;28;01mas\u001b[39;00m e:\n\u001b[32m    346\u001b[39m     logger.info(\u001b[33mf\u001b[39m\u001b[33m\"\u001b[39m\u001b[33mTask \u001b[39m\u001b[38;5;132;01m{\u001b[39;00mtask_id\u001b[38;5;132;01m}\u001b[39;00m\u001b[33m try \u001b[39m\u001b[38;5;132;01m{\u001b[39;00mtask_record[\u001b[33m'\u001b[39m\u001b[33mtry_id\u001b[39m\u001b[33m'\u001b[39m]\u001b[38;5;132;01m}\u001b[39;00m\u001b[33m failed with exception of type \u001b[39m\u001b[38;5;132;01m{\u001b[39;00m\u001b[38;5;28mtype\u001b[39m(e).\u001b[34m__name__\u001b[39m\u001b[38;5;132;01m}\u001b[39;00m\u001b[33m\"\u001b[39m)\n",
      "\u001b[36mFile \u001b[39m\u001b[32m/dodrio/scratch/projects/2024_026/IMLCV/micromamba/envs/py312/lib/python3.12/site-packages/parsl/dataflow/dflow.py:605\u001b[39m, in \u001b[36mDataFlowKernel._unwrap_remote_exception_wrapper\u001b[39m\u001b[34m(future)\u001b[39m\n\u001b[32m    603\u001b[39m \u001b[38;5;129m@staticmethod\u001b[39m\n\u001b[32m    604\u001b[39m \u001b[38;5;28;01mdef\u001b[39;00m\u001b[38;5;250m \u001b[39m\u001b[34m_unwrap_remote_exception_wrapper\u001b[39m(future: Future) -> Any:\n\u001b[32m--> \u001b[39m\u001b[32m605\u001b[39m     result = \u001b[43mfuture\u001b[49m\u001b[43m.\u001b[49m\u001b[43mresult\u001b[49m\u001b[43m(\u001b[49m\u001b[43m)\u001b[49m\n\u001b[32m    606\u001b[39m     \u001b[38;5;28;01mif\u001b[39;00m \u001b[38;5;28misinstance\u001b[39m(result, RemoteExceptionWrapper):\n\u001b[32m    607\u001b[39m         result.reraise()\n",
      "\u001b[36mFile \u001b[39m\u001b[32m/dodrio/scratch/projects/2024_026/IMLCV/micromamba/envs/py312/lib/python3.12/concurrent/futures/_base.py:449\u001b[39m, in \u001b[36mFuture.result\u001b[39m\u001b[34m(self, timeout)\u001b[39m\n\u001b[32m    447\u001b[39m     \u001b[38;5;28;01mraise\u001b[39;00m CancelledError()\n\u001b[32m    448\u001b[39m \u001b[38;5;28;01melif\u001b[39;00m \u001b[38;5;28mself\u001b[39m._state == FINISHED:\n\u001b[32m--> \u001b[39m\u001b[32m449\u001b[39m     \u001b[38;5;28;01mreturn\u001b[39;00m \u001b[38;5;28;43mself\u001b[39;49m\u001b[43m.\u001b[49m\u001b[43m__get_result\u001b[49m\u001b[43m(\u001b[49m\u001b[43m)\u001b[49m\n\u001b[32m    451\u001b[39m \u001b[38;5;28mself\u001b[39m._condition.wait(timeout)\n\u001b[32m    453\u001b[39m \u001b[38;5;28;01mif\u001b[39;00m \u001b[38;5;28mself\u001b[39m._state \u001b[38;5;129;01min\u001b[39;00m [CANCELLED, CANCELLED_AND_NOTIFIED]:\n",
      "\u001b[36mFile \u001b[39m\u001b[32m/dodrio/scratch/projects/2024_026/IMLCV/micromamba/envs/py312/lib/python3.12/concurrent/futures/_base.py:401\u001b[39m, in \u001b[36mFuture.__get_result\u001b[39m\u001b[34m(self)\u001b[39m\n\u001b[32m    399\u001b[39m \u001b[38;5;28;01mif\u001b[39;00m \u001b[38;5;28mself\u001b[39m._exception:\n\u001b[32m    400\u001b[39m     \u001b[38;5;28;01mtry\u001b[39;00m:\n\u001b[32m--> \u001b[39m\u001b[32m401\u001b[39m         \u001b[38;5;28;01mraise\u001b[39;00m \u001b[38;5;28mself\u001b[39m._exception\n\u001b[32m    402\u001b[39m     \u001b[38;5;28;01mfinally\u001b[39;00m:\n\u001b[32m    403\u001b[39m         \u001b[38;5;66;03m# Break a reference cycle with the exception in self._exception\u001b[39;00m\n\u001b[32m    404\u001b[39m         \u001b[38;5;28mself\u001b[39m = \u001b[38;5;28;01mNone\u001b[39;00m\n",
      "\u001b[31mDependencyError\u001b[39m: Dependency failure for task 689. The representative cause is via DataFuture from task 688"
     ]
    }
   ],
   "source": [
    "if scheme.rounds.cv == 0:\n",
    "    update_cv()\n",
    "\n",
    "for i in range(10):\n",
    "    sample(eps=eps)\n",
    "    update_cv()"
   ]
  },
  {
   "cell_type": "code",
   "execution_count": null,
   "metadata": {},
   "outputs": [],
   "source": []
  }
 ],
 "metadata": {
  "kernelspec": {
   "display_name": "Python 3 (ipykernel)",
   "language": "python",
   "name": "python3"
  },
  "language_info": {
   "codemirror_mode": {
    "name": "ipython",
    "version": 3
   },
   "file_extension": ".py",
   "mimetype": "text/x-python",
   "name": "python",
   "nbconvert_exporter": "python",
   "pygments_lexer": "ipython3",
   "version": "3.12.9"
  },
  "widgets": {
   "application/vnd.jupyter.widget-state+json": {
    "state": {},
    "version_major": 2,
    "version_minor": 0
   }
  }
 },
 "nbformat": 4,
 "nbformat_minor": 4
}
