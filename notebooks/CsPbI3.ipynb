{
 "cells": [
  {
   "cell_type": "code",
   "execution_count": 1,
   "metadata": {},
   "outputs": [],
   "source": [
    "%load_ext autoreload\n",
    "\n",
    "%autoreload 2\n"
   ]
  },
  {
   "cell_type": "code",
   "execution_count": null,
   "metadata": {},
   "outputs": [],
   "source": []
  },
  {
   "cell_type": "code",
   "execution_count": null,
   "metadata": {},
   "outputs": [
    {
     "name": "stdout",
     "output_type": "stream",
     "text": [
      "ROOT_DIR=PosixPath('/kyukon/scratch/gent/vo/000/gvo00003/vsc43693/IMLCV/IMLCV/src/IMLCV')\n",
      "node\n",
      "stevin\n",
      "executor='work_queue'\n",
      "wall_time_s=14160.0\n",
      "executor='work_queue'\n",
      "wall_time_s=42960.0\n",
      "executor='work_queue'\n",
      "wall_time_s=14160.0\n"
     ]
    },
    {
     "name": "stderr",
     "output_type": "stream",
     "text": [
      "/kyukon/scratch/gent/vo/000/gvo00003/vsc43693/envs/condaenv/py312/lib/python3.12/subprocess.py:1885: RuntimeWarning: os.fork() was called. os.fork() is incompatible with multithreaded code, and JAX is multithreaded, so this will likely lead to a deadlock.\n",
      "  self.pid = _fork_exec(\n"
     ]
    },
    {
     "name": "stderr",
     "output_type": "stream",
     "text": [
      "/kyukon/scratch/gent/vo/000/gvo00003/vsc43693/envs/condaenv/py312/lib/python3.12/subprocess.py:1885: RuntimeWarning: os.fork() was called. os.fork() is incompatible with multithreaded code, and JAX is multithreaded, so this will likely lead to a deadlock.\n",
      "  self.pid = _fork_exec(\n",
      "/kyukon/scratch/gent/vo/000/gvo00003/vsc43693/envs/condaenv/py312/lib/python3.12/subprocess.py:1885: RuntimeWarning: os.fork() was called. os.fork() is incompatible with multithreaded code, and JAX is multithreaded, so this will likely lead to a deadlock.\n",
      "  self.pid = _fork_exec(\n"
     ]
    }
   ],
   "source": [
    "from IMLCV.configs.config_general import config\n",
    "\n",
    "\n",
    "# config(\n",
    "#     env=\"local\",\n",
    "#     local_ref_threads=2,\n",
    "#     max_threads_local=10,\n",
    "# )\n",
    "\n",
    "\n",
    "config(\n",
    "\n",
    "    singlepoint_nodes=4,\n",
    "    walltime=\"12:00:00\",\n",
    "    bootstrap=False,\n",
    "    training_cores=12,\n",
    "\n",
    ")"
   ]
  },
  {
   "cell_type": "markdown",
   "metadata": {},
   "source": []
  },
  {
   "cell_type": "code",
   "execution_count": 3,
   "metadata": {},
   "outputs": [],
   "source": [
    "from pathlib import Path\n",
    "\n",
    "from IMLCV.base.rounds import Rounds\n",
    "from IMLCV.examples.example_systems import CsPbI3_MACE_lattice\n",
    "from IMLCV.scheme import Scheme\n",
    "\n",
    "folder = Path(\"perovskites\")/\"CsPbI3\"\n",
    "\n",
    "if folder.exists():\n",
    "    scheme = Scheme( rounds= Rounds.create(folder=folder, copy=False, new_folder=False))\n",
    "\n",
    "else:\n",
    "    md,refs = CsPbI3_MACE_lattice()\n",
    "    \n",
    "\n",
    "    scheme = Scheme.from_refs(mde=md, refs=refs, folder=folder,steps=1000,)"
   ]
  },
  {
   "cell_type": "code",
   "execution_count": null,
   "metadata": {},
   "outputs": [],
   "source": []
  },
  {
   "cell_type": "code",
   "execution_count": 4,
   "metadata": {},
   "outputs": [
    {
     "data": {
      "text/plain": [
       "2.494341595946812"
      ]
     },
     "execution_count": 4,
     "metadata": {},
     "output_type": "execute_result"
    }
   ],
   "source": [
    "from IMLCV.base.UnitsConstants import angstrom, boltzmann, kelvin, kjmol\n",
    "\n",
    "300*kelvin*boltzmann/kjmol"
   ]
  },
  {
   "cell_type": "code",
   "execution_count": 22,
   "metadata": {},
   "outputs": [
    {
     "name": "stdout",
     "output_type": "stream",
     "text": [
      "n=6\n",
      "n=6 n_max=1728\n"
     ]
    }
   ],
   "source": [
    "steps=2000\n",
    "\n",
    "chunk_size=100\n",
    "\n",
    "n=[15,10,6][scheme.bias.collective_variable.n-1]\n",
    "\n",
    "print(f\"{n=}\")\n",
    "\n",
    "max_bias=150 * kjmol\n",
    "samples_per_bin=200\n",
    "min_samples_per_bin=5\n",
    "\n",
    "n_max=(2*n)**(scheme.bias.collective_variable.n)\n",
    "\n",
    "print(f\"{n=} {n_max=}\")"
   ]
  },
  {
   "cell_type": "code",
   "execution_count": null,
   "metadata": {},
   "outputs": [
    {
     "name": "stdout",
     "output_type": "stream",
     "text": [
      "cv_round=0\n",
      "i_0=1\n",
      "running round i=1 with 2000 steps\n",
      "grid=[Array([0.        , 0.16666667, 0.33333333, 0.5       , 0.66666667,\n",
      "       0.83333333, 1.        ], dtype=float64), Array([0.        , 0.16666667, 0.33333333, 0.5       , 0.66666667,\n",
      "       0.83333333, 1.        ], dtype=float64), Array([0.        , 0.16666667, 0.33333333, 0.5       , 0.66666667,\n",
      "       0.83333333, 1.        ], dtype=float64)]\n",
      "k*kjmol=Array([7.0488633e-05, 7.0488633e-05, 7.0488633e-05], dtype=float64)\n",
      "len(biases)=216\n"
     ]
    }
   ],
   "source": [
    "scheme.inner_loop(\n",
    "    steps=steps,\n",
    "    n=n,\n",
    "    n_max_fes=n_max,\n",
    "    convergence_kl=1e-4,\n",
    "    chunk_size=100,\n",
    "    eps_umbrella=0.10,\n",
    "    max_bias=max_bias,\n",
    "    samples_per_bin=samples_per_bin,\n",
    "    min_samples_per_bin=min_samples_per_bin,\n",
    ")"
   ]
  },
  {
   "cell_type": "code",
   "execution_count": null,
   "metadata": {},
   "outputs": [],
   "source": []
  },
  {
   "cell_type": "code",
   "execution_count": 7,
   "metadata": {},
   "outputs": [
    {
     "data": {
      "text/plain": [
       "0.0003808799176039228"
      ]
     },
     "execution_count": 7,
     "metadata": {},
     "output_type": "execute_result"
    }
   ],
   "source": [
    "import ase\n",
    "\n",
    "\n",
    "from IMLCV.base.UnitsConstants import electronvolt,kjmol,kelvin,boltzmann\n",
    "\n",
    "kjmol\n",
    "\n",
    "# ase.units.kJ/ase.units.mol"
   ]
  },
  {
   "cell_type": "code",
   "execution_count": 8,
   "metadata": {},
   "outputs": [
    {
     "data": {
      "text/plain": [
       "0.000950044621540259"
      ]
     },
     "execution_count": 8,
     "metadata": {},
     "output_type": "execute_result"
    }
   ],
   "source": [
    "300 * kelvin*boltzmann"
   ]
  },
  {
   "cell_type": "code",
   "execution_count": null,
   "metadata": {},
   "outputs": [],
   "source": []
  },
  {
   "cell_type": "code",
   "execution_count": 16,
   "metadata": {},
   "outputs": [
    {
     "name": "stdout",
     "output_type": "stream",
     "text": [
      "estimating bias from koopman Theory!\n"
     ]
    }
   ],
   "source": [
    "from IMLCV.base.UnitsConstants import kjmol\n",
    "\n",
    "new_bias = scheme.FESBias(\n",
    "    thermolib=False,\n",
    "    n_max=n_max,\n",
    "    max_bias=max_bias,\n",
    "    samples_per_bin=samples_per_bin,\n",
    "    min_samples_per_bin=min_samples_per_bin,\n",
    ")\n",
    "\n",
    "scheme.rounds.add_round(bias=new_bias)"
   ]
  },
  {
   "cell_type": "code",
   "execution_count": null,
   "metadata": {},
   "outputs": [],
   "source": []
  }
 ],
 "metadata": {
  "kernelspec": {
   "display_name": "Python 3 (ipykernel)",
   "language": "python",
   "name": "python3"
  },
  "language_info": {
   "codemirror_mode": {
    "name": "ipython",
    "version": 3
   },
   "file_extension": ".py",
   "mimetype": "text/x-python",
   "name": "python",
   "nbconvert_exporter": "python",
   "pygments_lexer": "ipython3",
   "version": "3.12.10"
  },
  "widgets": {
   "application/vnd.jupyter.widget-state+json": {
    "state": {},
    "version_major": 2,
    "version_minor": 0
   }
  }
 },
 "nbformat": 4,
 "nbformat_minor": 4
}
